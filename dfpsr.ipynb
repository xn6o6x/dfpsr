{
 "cells": [
  {
   "cell_type": "code",
   "execution_count": 1,
   "metadata": {},
   "outputs": [
    {
     "data": {
      "application/javascript": [
       "\n",
       "            setTimeout(function() {\n",
       "                var nbb_cell_id = 1;\n",
       "                var nbb_unformatted_code = \"%load_ext nb_black\";\n",
       "                var nbb_formatted_code = \"%load_ext nb_black\";\n",
       "                var nbb_cells = Jupyter.notebook.get_cells();\n",
       "                for (var i = 0; i < nbb_cells.length; ++i) {\n",
       "                    if (nbb_cells[i].input_prompt_number == nbb_cell_id) {\n",
       "                        if (nbb_cells[i].get_text() == nbb_unformatted_code) {\n",
       "                             nbb_cells[i].set_text(nbb_formatted_code);\n",
       "                        }\n",
       "                        break;\n",
       "                    }\n",
       "                }\n",
       "            }, 500);\n",
       "            "
      ],
      "text/plain": [
       "<IPython.core.display.Javascript object>"
      ]
     },
     "metadata": {},
     "output_type": "display_data"
    }
   ],
   "source": [
    "%load_ext nb_black"
   ]
  },
  {
   "cell_type": "code",
   "execution_count": 2,
   "metadata": {},
   "outputs": [
    {
     "data": {
      "application/javascript": [
       "\n",
       "            setTimeout(function() {\n",
       "                var nbb_cell_id = 2;\n",
       "                var nbb_unformatted_code = \"import numpy as np\\nimport numpy.fft as fft\\nimport numpy.polynomial.chebyshev as nc\\nimport argparse as ap\\nimport os, sys, time, ld\\nimport mpmath as mm\\n\\nmm.mp.dps = 30\\nimport astropy.io.fits as ps\\nfrom multiprocessing import Pool, Manager\\nimport gc\\nimport psr_read as pr\\nimport time_eph as te\\nimport psr_model as pm\\nimport subprocess as sp\";\n",
       "                var nbb_formatted_code = \"import numpy as np\\nimport numpy.fft as fft\\nimport numpy.polynomial.chebyshev as nc\\nimport argparse as ap\\nimport os, sys, time, ld\\nimport mpmath as mm\\n\\nmm.mp.dps = 30\\nimport astropy.io.fits as ps\\nfrom multiprocessing import Pool, Manager\\nimport gc\\nimport psr_read as pr\\nimport time_eph as te\\nimport psr_model as pm\\nimport subprocess as sp\";\n",
       "                var nbb_cells = Jupyter.notebook.get_cells();\n",
       "                for (var i = 0; i < nbb_cells.length; ++i) {\n",
       "                    if (nbb_cells[i].input_prompt_number == nbb_cell_id) {\n",
       "                        if (nbb_cells[i].get_text() == nbb_unformatted_code) {\n",
       "                             nbb_cells[i].set_text(nbb_formatted_code);\n",
       "                        }\n",
       "                        break;\n",
       "                    }\n",
       "                }\n",
       "            }, 500);\n",
       "            "
      ],
      "text/plain": [
       "<IPython.core.display.Javascript object>"
      ]
     },
     "metadata": {},
     "output_type": "display_data"
    }
   ],
   "source": [
    "import numpy as np\n",
    "import numpy.fft as fft\n",
    "import numpy.polynomial.chebyshev as nc\n",
    "import argparse as ap\n",
    "import os, sys, time, ld\n",
    "import mpmath as mm\n",
    "\n",
    "mm.mp.dps = 30\n",
    "import astropy.io.fits as ps\n",
    "from multiprocessing import Pool, Manager\n",
    "import gc\n",
    "import psr_read as pr\n",
    "import time_eph as te\n",
    "import psr_model as pm\n",
    "import subprocess as sp"
   ]
  },
  {
   "cell_type": "code",
   "execution_count": 3,
   "metadata": {},
   "outputs": [
    {
     "data": {
      "application/javascript": [
       "\n",
       "            setTimeout(function() {\n",
       "                var nbb_cell_id = 3;\n",
       "                var nbb_unformatted_code = \"filelist = [\\n    \\\"/home/juianhsu/2019a-109-P/J0621+1002/20190702/J0621+1002_tracking_0001.fits\\\",\\n    \\\"/home/juianhsu/2019a-109-P/J0621+1002/20190702/J0621+1002_tracking_0002.fits\\\",\\n    \\\"/home/juianhsu/2019a-109-P/J0621+1002/20190702/J0621+1002_tracking_0003.fits\\\",\\n]\\nfilenum = len(filelist)\\nfile_t0 = []\\nfile_time = []\\nfile_len = []\";\n",
       "                var nbb_formatted_code = \"filelist = [\\n    \\\"/home/juianhsu/2019a-109-P/J0621+1002/20190702/J0621+1002_tracking_0001.fits\\\",\\n    \\\"/home/juianhsu/2019a-109-P/J0621+1002/20190702/J0621+1002_tracking_0002.fits\\\",\\n    \\\"/home/juianhsu/2019a-109-P/J0621+1002/20190702/J0621+1002_tracking_0003.fits\\\",\\n]\\nfilenum = len(filelist)\\nfile_t0 = []\\nfile_time = []\\nfile_len = []\";\n",
       "                var nbb_cells = Jupyter.notebook.get_cells();\n",
       "                for (var i = 0; i < nbb_cells.length; ++i) {\n",
       "                    if (nbb_cells[i].input_prompt_number == nbb_cell_id) {\n",
       "                        if (nbb_cells[i].get_text() == nbb_unformatted_code) {\n",
       "                             nbb_cells[i].set_text(nbb_formatted_code);\n",
       "                        }\n",
       "                        break;\n",
       "                    }\n",
       "                }\n",
       "            }, 500);\n",
       "            "
      ],
      "text/plain": [
       "<IPython.core.display.Javascript object>"
      ]
     },
     "metadata": {},
     "output_type": "display_data"
    }
   ],
   "source": [
    "filelist = [\n",
    "    \"/home/juianhsu/2019a-109-P/J0621+1002/20190702/J0621+1002_tracking_0001.fits\",\n",
    "    \"/home/juianhsu/2019a-109-P/J0621+1002/20190702/J0621+1002_tracking_0002.fits\",\n",
    "    \"/home/juianhsu/2019a-109-P/J0621+1002/20190702/J0621+1002_tracking_0003.fits\",\n",
    "]\n",
    "filenum = len(filelist)\n",
    "file_t0 = []\n",
    "file_time = []\n",
    "file_len = []"
   ]
  },
  {
   "cell_type": "code",
   "execution_count": 4,
   "metadata": {},
   "outputs": [
    {
     "data": {
      "application/javascript": [
       "\n",
       "            setTimeout(function() {\n",
       "                var nbb_cell_id = 4;\n",
       "                var nbb_unformatted_code = \"(\\n    telename,\\n    pol_type,\\n    npol,\\n    nchan,\\n    freq,\\n    bandwidth,\\n    tsamp,\\n    nsblk,\\n    bw_sign,\\n    stt_imjd,\\n    stt_smjd,\\n    stt_offs,\\n    nsub,\\n    offs_sub,\\n) = (\\\"\\\", \\\"\\\", 0, 0, 0, 0.0, 0.0, 0, True, 0, 0, 0.0, 0, 0.0)\";\n",
       "                var nbb_formatted_code = \"(\\n    telename,\\n    pol_type,\\n    npol,\\n    nchan,\\n    freq,\\n    bandwidth,\\n    tsamp,\\n    nsblk,\\n    bw_sign,\\n    stt_imjd,\\n    stt_smjd,\\n    stt_offs,\\n    nsub,\\n    offs_sub,\\n) = (\\\"\\\", \\\"\\\", 0, 0, 0, 0.0, 0.0, 0, True, 0, 0, 0.0, 0, 0.0)\";\n",
       "                var nbb_cells = Jupyter.notebook.get_cells();\n",
       "                for (var i = 0; i < nbb_cells.length; ++i) {\n",
       "                    if (nbb_cells[i].input_prompt_number == nbb_cell_id) {\n",
       "                        if (nbb_cells[i].get_text() == nbb_unformatted_code) {\n",
       "                             nbb_cells[i].set_text(nbb_formatted_code);\n",
       "                        }\n",
       "                        break;\n",
       "                    }\n",
       "                }\n",
       "            }, 500);\n",
       "            "
      ],
      "text/plain": [
       "<IPython.core.display.Javascript object>"
      ]
     },
     "metadata": {},
     "output_type": "display_data"
    }
   ],
   "source": [
    "(\n",
    "    telename,\n",
    "    pol_type,\n",
    "    npol,\n",
    "    nchan,\n",
    "    freq,\n",
    "    bandwidth,\n",
    "    tsamp,\n",
    "    nsblk,\n",
    "    bw_sign,\n",
    "    stt_imjd,\n",
    "    stt_smjd,\n",
    "    stt_offs,\n",
    "    nsub,\n",
    "    offs_sub,\n",
    ") = (\"\", \"\", 0, 0, 0, 0.0, 0.0, 0, True, 0, 0, 0.0, 0, 0.0)"
   ]
  },
  {
   "cell_type": "markdown",
   "metadata": {},
   "source": [
    "# file check"
   ]
  },
  {
   "cell_type": "code",
   "execution_count": 5,
   "metadata": {},
   "outputs": [
    {
     "data": {
      "application/javascript": [
       "\n",
       "            setTimeout(function() {\n",
       "                var nbb_cell_id = 5;\n",
       "                var nbb_unformatted_code = \"def file_check(fname, notfirst=True, filetype=\\\"data\\\"):\\n    if not os.path.isfile(fname):\\n        print(\\\"Fits \\\" + filetype + \\\" name is invalid.\\\")\\n    try:\\n        f = ps.open(fname, mmap=True)  # f=ps.open(filelist[i],mmap=True)\\n    except:\\n        print(\\\"Fits \\\" + filetype + \\\" is invalid.\\\")\\n    head = f[\\\"PRIMARY\\\"].header\\n    subint = f[\\\"SUBINT\\\"]\\n    subint_header = subint.header\\n    subint_data = subint.data[0]\\n    global telename, pol_type, npol, nchan, freq, bandwidth, tsamp, nsblk, bw_sign, stt_imjd, stt_smjd, stt_offs, nsub\\n    if not notfirst:\\n        telename = head[\\\"TELESCOP\\\"]\\n        npol = subint_header[\\\"NPOL\\\"]\\n        nchan = head[\\\"OBSNCHAN\\\"]\\n        freq = head[\\\"OBSFREQ\\\"]\\n        bandwidth = subint_header[\\\"NCHAN\\\"] * subint_header[\\\"CHAN_BW\\\"]\\n        bw_sign = bandwidth > 0\\n        bandwidth = np.abs(bandwidth)\\n        tsamp = subint_header[\\\"TBIN\\\"]\\n        nsblk = subint_header[\\\"NSBLK\\\"]\\n        pol_type = subint_header[\\\"POL_TYPE\\\"]\\n    else:\\n        if telename != head[\\\"TELESCOP\\\"]:\\n            file_error(\\\"telescope name\\\", filetype)\\n        if pol_type != subint_header[\\\"POL_TYPE\\\"]:\\n            file_error(\\\"polarisation type\\\", filetype)\\n        if npol != subint_header[\\\"NPOL\\\"]:\\n            file_error(\\\"number of polorisations\\\", filetype)\\n        if nchan != head[\\\"OBSNCHAN\\\"]:\\n            file_error(\\\"number of channels\\\", filetype)\\n        if freq != head[\\\"OBSFREQ\\\"]:\\n            file_error(\\\"central frequency\\\", filetype)\\n        if bandwidth != np.abs(subint_header[\\\"NCHAN\\\"] * subint_header[\\\"CHAN_BW\\\"]):\\n            file_error(\\\"bandwidth\\\", filetype)\\n        if tsamp != subint_header[\\\"TBIN\\\"]:\\n            file_error(\\\"sampling time\\\", filetype)\\n        #\\n    stt_imjd = head[\\\"STT_IMJD\\\"]\\n    stt_smjd = head[\\\"STT_SMJD\\\"]\\n    stt_offs = head[\\\"STT_OFFS\\\"]\\n    nsub = subint_header[\\\"NAXIS2\\\"]\\n    offs_sub = subint_data[\\\"OFFS_SUB\\\"]\\n    del subint_data\\n    f.close()\";\n",
       "                var nbb_formatted_code = \"def file_check(fname, notfirst=True, filetype=\\\"data\\\"):\\n    if not os.path.isfile(fname):\\n        print(\\\"Fits \\\" + filetype + \\\" name is invalid.\\\")\\n    try:\\n        f = ps.open(fname, mmap=True)  # f=ps.open(filelist[i],mmap=True)\\n    except:\\n        print(\\\"Fits \\\" + filetype + \\\" is invalid.\\\")\\n    head = f[\\\"PRIMARY\\\"].header\\n    subint = f[\\\"SUBINT\\\"]\\n    subint_header = subint.header\\n    subint_data = subint.data[0]\\n    global telename, pol_type, npol, nchan, freq, bandwidth, tsamp, nsblk, bw_sign, stt_imjd, stt_smjd, stt_offs, nsub\\n    if not notfirst:\\n        telename = head[\\\"TELESCOP\\\"]\\n        npol = subint_header[\\\"NPOL\\\"]\\n        nchan = head[\\\"OBSNCHAN\\\"]\\n        freq = head[\\\"OBSFREQ\\\"]\\n        bandwidth = subint_header[\\\"NCHAN\\\"] * subint_header[\\\"CHAN_BW\\\"]\\n        bw_sign = bandwidth > 0\\n        bandwidth = np.abs(bandwidth)\\n        tsamp = subint_header[\\\"TBIN\\\"]\\n        nsblk = subint_header[\\\"NSBLK\\\"]\\n        pol_type = subint_header[\\\"POL_TYPE\\\"]\\n    else:\\n        if telename != head[\\\"TELESCOP\\\"]:\\n            file_error(\\\"telescope name\\\", filetype)\\n        if pol_type != subint_header[\\\"POL_TYPE\\\"]:\\n            file_error(\\\"polarisation type\\\", filetype)\\n        if npol != subint_header[\\\"NPOL\\\"]:\\n            file_error(\\\"number of polorisations\\\", filetype)\\n        if nchan != head[\\\"OBSNCHAN\\\"]:\\n            file_error(\\\"number of channels\\\", filetype)\\n        if freq != head[\\\"OBSFREQ\\\"]:\\n            file_error(\\\"central frequency\\\", filetype)\\n        if bandwidth != np.abs(subint_header[\\\"NCHAN\\\"] * subint_header[\\\"CHAN_BW\\\"]):\\n            file_error(\\\"bandwidth\\\", filetype)\\n        if tsamp != subint_header[\\\"TBIN\\\"]:\\n            file_error(\\\"sampling time\\\", filetype)\\n        #\\n    stt_imjd = head[\\\"STT_IMJD\\\"]\\n    stt_smjd = head[\\\"STT_SMJD\\\"]\\n    stt_offs = head[\\\"STT_OFFS\\\"]\\n    nsub = subint_header[\\\"NAXIS2\\\"]\\n    offs_sub = subint_data[\\\"OFFS_SUB\\\"]\\n    del subint_data\\n    f.close()\";\n",
       "                var nbb_cells = Jupyter.notebook.get_cells();\n",
       "                for (var i = 0; i < nbb_cells.length; ++i) {\n",
       "                    if (nbb_cells[i].input_prompt_number == nbb_cell_id) {\n",
       "                        if (nbb_cells[i].get_text() == nbb_unformatted_code) {\n",
       "                             nbb_cells[i].set_text(nbb_formatted_code);\n",
       "                        }\n",
       "                        break;\n",
       "                    }\n",
       "                }\n",
       "            }, 500);\n",
       "            "
      ],
      "text/plain": [
       "<IPython.core.display.Javascript object>"
      ]
     },
     "metadata": {},
     "output_type": "display_data"
    }
   ],
   "source": [
    "def file_check(fname, notfirst=True, filetype=\"data\"):\n",
    "    if not os.path.isfile(fname):\n",
    "        print(\"Fits \" + filetype + \" name is invalid.\")\n",
    "    try:\n",
    "        f = ps.open(fname, mmap=True)  # f=ps.open(filelist[i],mmap=True)\n",
    "    except:\n",
    "        print(\"Fits \" + filetype + \" is invalid.\")\n",
    "    head = f[\"PRIMARY\"].header\n",
    "    subint = f[\"SUBINT\"]\n",
    "    subint_header = subint.header\n",
    "    subint_data = subint.data[0]\n",
    "    global telename, pol_type, npol, nchan, freq, bandwidth, tsamp, nsblk, bw_sign, stt_imjd, stt_smjd, stt_offs, nsub\n",
    "    if not notfirst:\n",
    "        telename = head[\"TELESCOP\"]\n",
    "        npol = subint_header[\"NPOL\"]\n",
    "        nchan = head[\"OBSNCHAN\"]\n",
    "        freq = head[\"OBSFREQ\"]\n",
    "        bandwidth = subint_header[\"NCHAN\"] * subint_header[\"CHAN_BW\"]\n",
    "        bw_sign = bandwidth > 0\n",
    "        bandwidth = np.abs(bandwidth)\n",
    "        tsamp = subint_header[\"TBIN\"]\n",
    "        nsblk = subint_header[\"NSBLK\"]\n",
    "        pol_type = subint_header[\"POL_TYPE\"]\n",
    "    else:\n",
    "        if telename != head[\"TELESCOP\"]:\n",
    "            file_error(\"telescope name\", filetype)\n",
    "        if pol_type != subint_header[\"POL_TYPE\"]:\n",
    "            file_error(\"polarisation type\", filetype)\n",
    "        if npol != subint_header[\"NPOL\"]:\n",
    "            file_error(\"number of polorisations\", filetype)\n",
    "        if nchan != head[\"OBSNCHAN\"]:\n",
    "            file_error(\"number of channels\", filetype)\n",
    "        if freq != head[\"OBSFREQ\"]:\n",
    "            file_error(\"central frequency\", filetype)\n",
    "        if bandwidth != np.abs(subint_header[\"NCHAN\"] * subint_header[\"CHAN_BW\"]):\n",
    "            file_error(\"bandwidth\", filetype)\n",
    "        if tsamp != subint_header[\"TBIN\"]:\n",
    "            file_error(\"sampling time\", filetype)\n",
    "        #\n",
    "    stt_imjd = head[\"STT_IMJD\"]\n",
    "    stt_smjd = head[\"STT_SMJD\"]\n",
    "    stt_offs = head[\"STT_OFFS\"]\n",
    "    nsub = subint_header[\"NAXIS2\"]\n",
    "    offs_sub = subint_data[\"OFFS_SUB\"]\n",
    "    del subint_data\n",
    "    f.close()"
   ]
  },
  {
   "cell_type": "code",
   "execution_count": 6,
   "metadata": {},
   "outputs": [
    {
     "data": {
      "application/javascript": [
       "\n",
       "            setTimeout(function() {\n",
       "                var nbb_cell_id = 6;\n",
       "                var nbb_unformatted_code = \"for i in np.arange(filenum):\\n    file_check(filelist[i], notfirst=i)\\n    subint_t0 = (\\n        offs_sub - tsamp * nsblk / 2.0 + stt_smjd + stt_offs\\n    ) / 86400.0 + stt_imjd\\n    file_time.append([offs_sub - tsamp * nsblk / 2.0, stt_smjd, stt_offs, stt_imjd])\\n    file_len.append(nsub)\\n    file_t0.append(subint_t0)\";\n",
       "                var nbb_formatted_code = \"for i in np.arange(filenum):\\n    file_check(filelist[i], notfirst=i)\\n    subint_t0 = (\\n        offs_sub - tsamp * nsblk / 2.0 + stt_smjd + stt_offs\\n    ) / 86400.0 + stt_imjd\\n    file_time.append([offs_sub - tsamp * nsblk / 2.0, stt_smjd, stt_offs, stt_imjd])\\n    file_len.append(nsub)\\n    file_t0.append(subint_t0)\";\n",
       "                var nbb_cells = Jupyter.notebook.get_cells();\n",
       "                for (var i = 0; i < nbb_cells.length; ++i) {\n",
       "                    if (nbb_cells[i].input_prompt_number == nbb_cell_id) {\n",
       "                        if (nbb_cells[i].get_text() == nbb_unformatted_code) {\n",
       "                             nbb_cells[i].set_text(nbb_formatted_code);\n",
       "                        }\n",
       "                        break;\n",
       "                    }\n",
       "                }\n",
       "            }, 500);\n",
       "            "
      ],
      "text/plain": [
       "<IPython.core.display.Javascript object>"
      ]
     },
     "metadata": {},
     "output_type": "display_data"
    }
   ],
   "source": [
    "for i in np.arange(filenum):\n",
    "    file_check(filelist[i], notfirst=i)\n",
    "    subint_t0 = (\n",
    "        offs_sub - tsamp * nsblk / 2.0 + stt_smjd + stt_offs\n",
    "    ) / 86400.0 + stt_imjd\n",
    "    file_time.append([offs_sub - tsamp * nsblk / 2.0, stt_smjd, stt_offs, stt_imjd])\n",
    "    file_len.append(nsub)\n",
    "    file_t0.append(subint_t0)"
   ]
  },
  {
   "cell_type": "code",
   "execution_count": 7,
   "metadata": {},
   "outputs": [
    {
     "data": {
      "text/plain": [
       "(3,\n",
       " [58666.14930526428, 58666.14937982969, 58666.14945439509],\n",
       " [[-0.025165824, 12900, 0.0, 58666],\n",
       "  [-0.025165824, 12906, 0.442450944, 58666],\n",
       "  [-0.025165824, 12912, 0.884901888, 58666]],\n",
       " [128, 128, 128])"
      ]
     },
     "execution_count": 7,
     "metadata": {},
     "output_type": "execute_result"
    },
    {
     "data": {
      "application/javascript": [
       "\n",
       "            setTimeout(function() {\n",
       "                var nbb_cell_id = 7;\n",
       "                var nbb_unformatted_code = \"filenum, file_t0, file_time, file_len\";\n",
       "                var nbb_formatted_code = \"filenum, file_t0, file_time, file_len\";\n",
       "                var nbb_cells = Jupyter.notebook.get_cells();\n",
       "                for (var i = 0; i < nbb_cells.length; ++i) {\n",
       "                    if (nbb_cells[i].input_prompt_number == nbb_cell_id) {\n",
       "                        if (nbb_cells[i].get_text() == nbb_unformatted_code) {\n",
       "                             nbb_cells[i].set_text(nbb_formatted_code);\n",
       "                        }\n",
       "                        break;\n",
       "                    }\n",
       "                }\n",
       "            }, 500);\n",
       "            "
      ],
      "text/plain": [
       "<IPython.core.display.Javascript object>"
      ]
     },
     "metadata": {},
     "output_type": "display_data"
    }
   ],
   "source": [
    "filenum, file_t0, file_time, file_len"
   ]
  },
  {
   "cell_type": "code",
   "execution_count": 8,
   "metadata": {},
   "outputs": [
    {
     "data": {
      "application/javascript": [
       "\n",
       "            setTimeout(function() {\n",
       "                var nbb_cell_id = 8;\n",
       "                var nbb_unformatted_code = \"file_len, file_t0, filelist, file_time = (\\n    np.array(file_len),\\n    np.array(file_t0),\\n    np.array(filelist),\\n    np.array(file_time),\\n)\\nsorts = np.argsort(file_t0)\\nfile_len, file_t0, filelist, file_time = (\\n    file_len[sorts],\\n    np.sort(file_t0),\\n    filelist[sorts],\\n    file_time[sorts],\\n)\\nif len(file_len) > 1:\\n    if np.max(\\n        np.abs((file_len * nsblk * tsamp / 86400.0 + file_t0)[:-1] - file_t0[1:])\\n    ) > (tsamp / 86400.0):\\n        parser.error(\\\"Data files are not continuous.\\\")\";\n",
       "                var nbb_formatted_code = \"file_len, file_t0, filelist, file_time = (\\n    np.array(file_len),\\n    np.array(file_t0),\\n    np.array(filelist),\\n    np.array(file_time),\\n)\\nsorts = np.argsort(file_t0)\\nfile_len, file_t0, filelist, file_time = (\\n    file_len[sorts],\\n    np.sort(file_t0),\\n    filelist[sorts],\\n    file_time[sorts],\\n)\\nif len(file_len) > 1:\\n    if np.max(\\n        np.abs((file_len * nsblk * tsamp / 86400.0 + file_t0)[:-1] - file_t0[1:])\\n    ) > (tsamp / 86400.0):\\n        parser.error(\\\"Data files are not continuous.\\\")\";\n",
       "                var nbb_cells = Jupyter.notebook.get_cells();\n",
       "                for (var i = 0; i < nbb_cells.length; ++i) {\n",
       "                    if (nbb_cells[i].input_prompt_number == nbb_cell_id) {\n",
       "                        if (nbb_cells[i].get_text() == nbb_unformatted_code) {\n",
       "                             nbb_cells[i].set_text(nbb_formatted_code);\n",
       "                        }\n",
       "                        break;\n",
       "                    }\n",
       "                }\n",
       "            }, 500);\n",
       "            "
      ],
      "text/plain": [
       "<IPython.core.display.Javascript object>"
      ]
     },
     "metadata": {},
     "output_type": "display_data"
    }
   ],
   "source": [
    "file_len, file_t0, filelist, file_time = (\n",
    "    np.array(file_len),\n",
    "    np.array(file_t0),\n",
    "    np.array(filelist),\n",
    "    np.array(file_time),\n",
    ")\n",
    "sorts = np.argsort(file_t0)\n",
    "file_len, file_t0, filelist, file_time = (\n",
    "    file_len[sorts],\n",
    "    np.sort(file_t0),\n",
    "    filelist[sorts],\n",
    "    file_time[sorts],\n",
    ")\n",
    "if len(file_len) > 1:\n",
    "    if np.max(\n",
    "        np.abs((file_len * nsblk * tsamp / 86400.0 + file_t0)[:-1] - file_t0[1:])\n",
    "    ) > (tsamp / 86400.0):\n",
    "        parser.error(\"Data files are not continuous.\")"
   ]
  },
  {
   "cell_type": "markdown",
   "metadata": {},
   "source": [
    "# cal"
   ]
  },
  {
   "cell_type": "code",
   "execution_count": 9,
   "metadata": {},
   "outputs": [
    {
     "data": {
      "application/javascript": [
       "\n",
       "            setTimeout(function() {\n",
       "                var nbb_cell_id = 9;\n",
       "                var nbb_unformatted_code = \"noise_mark = \\\"ld\\\"\\nnoise = ld.ld(\\\"/home/juianhsu/2019a-109-P/J0621+1002/20190702/OFF_tracking_1.ld\\\")\\nnoise_info = noise.read_info()\\nif noise_info[\\\"mode\\\"] != \\\"cal\\\":\\n    print(\\\"LD file is not caliration file.\\\")\\nelif telename != noise_info[\\\"telename\\\"]:\\n    print(\\\"LD calibration file has different telescope name.\\\")\\nelif nchan != int(noise_info[\\\"nchan\\\"]):\\n    print(\\\"LD calibration file has different channel number.\\\")\";\n",
       "                var nbb_formatted_code = \"noise_mark = \\\"ld\\\"\\nnoise = ld.ld(\\\"/home/juianhsu/2019a-109-P/J0621+1002/20190702/OFF_tracking_1.ld\\\")\\nnoise_info = noise.read_info()\\nif noise_info[\\\"mode\\\"] != \\\"cal\\\":\\n    print(\\\"LD file is not caliration file.\\\")\\nelif telename != noise_info[\\\"telename\\\"]:\\n    print(\\\"LD calibration file has different telescope name.\\\")\\nelif nchan != int(noise_info[\\\"nchan\\\"]):\\n    print(\\\"LD calibration file has different channel number.\\\")\";\n",
       "                var nbb_cells = Jupyter.notebook.get_cells();\n",
       "                for (var i = 0; i < nbb_cells.length; ++i) {\n",
       "                    if (nbb_cells[i].input_prompt_number == nbb_cell_id) {\n",
       "                        if (nbb_cells[i].get_text() == nbb_unformatted_code) {\n",
       "                             nbb_cells[i].set_text(nbb_formatted_code);\n",
       "                        }\n",
       "                        break;\n",
       "                    }\n",
       "                }\n",
       "            }, 500);\n",
       "            "
      ],
      "text/plain": [
       "<IPython.core.display.Javascript object>"
      ]
     },
     "metadata": {},
     "output_type": "display_data"
    }
   ],
   "source": [
    "noise_mark = \"ld\"\n",
    "noise = ld.ld(\"/home/juianhsu/2019a-109-P/J0621+1002/20190702/OFF_tracking_1.ld\")\n",
    "noise_info = noise.read_info()\n",
    "if noise_info[\"mode\"] != \"cal\":\n",
    "    print(\"LD file is not caliration file.\")\n",
    "elif telename != noise_info[\"telename\"]:\n",
    "    print(\"LD calibration file has different telescope name.\")\n",
    "elif nchan != int(noise_info[\"nchan\"]):\n",
    "    print(\"LD calibration file has different channel number.\")"
   ]
  },
  {
   "cell_type": "markdown",
   "metadata": {},
   "source": [
    "# freqrange"
   ]
  },
  {
   "cell_type": "code",
   "execution_count": 10,
   "metadata": {},
   "outputs": [
    {
     "data": {
      "application/javascript": [
       "\n",
       "            setTimeout(function() {\n",
       "                var nbb_cell_id = 10;\n",
       "                var nbb_unformatted_code = \"channel_width = bandwidth * 1.0 / nchan\\nchanstart, chanend = 0, nchan\\nnchan_new = chanend - chanstart\";\n",
       "                var nbb_formatted_code = \"channel_width = bandwidth * 1.0 / nchan\\nchanstart, chanend = 0, nchan\\nnchan_new = chanend - chanstart\";\n",
       "                var nbb_cells = Jupyter.notebook.get_cells();\n",
       "                for (var i = 0; i < nbb_cells.length; ++i) {\n",
       "                    if (nbb_cells[i].input_prompt_number == nbb_cell_id) {\n",
       "                        if (nbb_cells[i].get_text() == nbb_unformatted_code) {\n",
       "                             nbb_cells[i].set_text(nbb_formatted_code);\n",
       "                        }\n",
       "                        break;\n",
       "                    }\n",
       "                }\n",
       "            }, 500);\n",
       "            "
      ],
      "text/plain": [
       "<IPython.core.display.Javascript object>"
      ]
     },
     "metadata": {},
     "output_type": "display_data"
    }
   ],
   "source": [
    "channel_width = bandwidth * 1.0 / nchan\n",
    "chanstart, chanend = 0, nchan\n",
    "nchan_new = chanend - chanstart"
   ]
  },
  {
   "cell_type": "code",
   "execution_count": 11,
   "metadata": {},
   "outputs": [
    {
     "data": {
      "text/plain": [
       "4096"
      ]
     },
     "execution_count": 11,
     "metadata": {},
     "output_type": "execute_result"
    },
    {
     "data": {
      "application/javascript": [
       "\n",
       "            setTimeout(function() {\n",
       "                var nbb_cell_id = 11;\n",
       "                var nbb_unformatted_code = \"nchan_new\";\n",
       "                var nbb_formatted_code = \"nchan_new\";\n",
       "                var nbb_cells = Jupyter.notebook.get_cells();\n",
       "                for (var i = 0; i < nbb_cells.length; ++i) {\n",
       "                    if (nbb_cells[i].input_prompt_number == nbb_cell_id) {\n",
       "                        if (nbb_cells[i].get_text() == nbb_unformatted_code) {\n",
       "                             nbb_cells[i].set_text(nbb_formatted_code);\n",
       "                        }\n",
       "                        break;\n",
       "                    }\n",
       "                }\n",
       "            }, 500);\n",
       "            "
      ],
      "text/plain": [
       "<IPython.core.display.Javascript object>"
      ]
     },
     "metadata": {},
     "output_type": "display_data"
    }
   ],
   "source": [
    "nchan_new"
   ]
  },
  {
   "cell_type": "code",
   "execution_count": 12,
   "metadata": {},
   "outputs": [
    {
     "data": {
      "application/javascript": [
       "\n",
       "            setTimeout(function() {\n",
       "                var nbb_cell_id = 12;\n",
       "                var nbb_unformatted_code = \"nbin = file_len.sum() * nsblk\\nstt_time = file_t0[0]\\nfreq_start, freq_end = (\\n    np.array([chanstart, chanend]) - 0.5 * nchan\\n) * channel_width + freq\\ninfo = {\\n    \\\"nbin_origin\\\": nbin,\\n    \\\"telename\\\": telename,\\n    \\\"freq_start\\\": freq_start,\\n    \\\"freq_end\\\": freq_end,\\n    \\\"nchan\\\": chanend - chanstart,\\n    \\\"tsamp_origin\\\": tsamp,\\n    \\\"stt_time_origin\\\": stt_time,\\n    \\\"stt_time\\\": stt_time,\\n    \\\"npol\\\": npol,\\n}\";\n",
       "                var nbb_formatted_code = \"nbin = file_len.sum() * nsblk\\nstt_time = file_t0[0]\\nfreq_start, freq_end = (\\n    np.array([chanstart, chanend]) - 0.5 * nchan\\n) * channel_width + freq\\ninfo = {\\n    \\\"nbin_origin\\\": nbin,\\n    \\\"telename\\\": telename,\\n    \\\"freq_start\\\": freq_start,\\n    \\\"freq_end\\\": freq_end,\\n    \\\"nchan\\\": chanend - chanstart,\\n    \\\"tsamp_origin\\\": tsamp,\\n    \\\"stt_time_origin\\\": stt_time,\\n    \\\"stt_time\\\": stt_time,\\n    \\\"npol\\\": npol,\\n}\";\n",
       "                var nbb_cells = Jupyter.notebook.get_cells();\n",
       "                for (var i = 0; i < nbb_cells.length; ++i) {\n",
       "                    if (nbb_cells[i].input_prompt_number == nbb_cell_id) {\n",
       "                        if (nbb_cells[i].get_text() == nbb_unformatted_code) {\n",
       "                             nbb_cells[i].set_text(nbb_formatted_code);\n",
       "                        }\n",
       "                        break;\n",
       "                    }\n",
       "                }\n",
       "            }, 500);\n",
       "            "
      ],
      "text/plain": [
       "<IPython.core.display.Javascript object>"
      ]
     },
     "metadata": {},
     "output_type": "display_data"
    }
   ],
   "source": [
    "nbin = file_len.sum() * nsblk\n",
    "stt_time = file_t0[0]\n",
    "freq_start, freq_end = (\n",
    "    np.array([chanstart, chanend]) - 0.5 * nchan\n",
    ") * channel_width + freq\n",
    "info = {\n",
    "    \"nbin_origin\": nbin,\n",
    "    \"telename\": telename,\n",
    "    \"freq_start\": freq_start,\n",
    "    \"freq_end\": freq_end,\n",
    "    \"nchan\": chanend - chanstart,\n",
    "    \"tsamp_origin\": tsamp,\n",
    "    \"stt_time_origin\": stt_time,\n",
    "    \"stt_time\": stt_time,\n",
    "    \"npol\": npol,\n",
    "}"
   ]
  },
  {
   "cell_type": "code",
   "execution_count": 13,
   "metadata": {},
   "outputs": [
    {
     "data": {
      "text/plain": [
       "{'nbin_origin': 393216,\n",
       " 'telename': 'FAST',\n",
       " 'freq_start': 1000.0,\n",
       " 'freq_end': 1500.0,\n",
       " 'nchan': 4096,\n",
       " 'tsamp_origin': 4.9152e-05,\n",
       " 'stt_time_origin': 58666.14930526428,\n",
       " 'stt_time': 58666.14930526428,\n",
       " 'npol': 4}"
      ]
     },
     "execution_count": 13,
     "metadata": {},
     "output_type": "execute_result"
    },
    {
     "data": {
      "application/javascript": [
       "\n",
       "            setTimeout(function() {\n",
       "                var nbb_cell_id = 13;\n",
       "                var nbb_unformatted_code = \"info\";\n",
       "                var nbb_formatted_code = \"info\";\n",
       "                var nbb_cells = Jupyter.notebook.get_cells();\n",
       "                for (var i = 0; i < nbb_cells.length; ++i) {\n",
       "                    if (nbb_cells[i].input_prompt_number == nbb_cell_id) {\n",
       "                        if (nbb_cells[i].get_text() == nbb_unformatted_code) {\n",
       "                             nbb_cells[i].set_text(nbb_formatted_code);\n",
       "                        }\n",
       "                        break;\n",
       "                    }\n",
       "                }\n",
       "            }, 500);\n",
       "            "
      ],
      "text/plain": [
       "<IPython.core.display.Javascript object>"
      ]
     },
     "metadata": {},
     "output_type": "display_data"
    }
   ],
   "source": [
    "info"
   ]
  },
  {
   "cell_type": "markdown",
   "metadata": {},
   "source": [
    "# psr name"
   ]
  },
  {
   "cell_type": "code",
   "execution_count": 14,
   "metadata": {},
   "outputs": [
    {
     "name": "stdout",
     "output_type": "stream",
     "text": [
      "Warning: No DMEPOCH in the parfile, using PEPOCH instead.\n",
      "Warning: No POSEPOCH in the parfile, using PEPOCH instead.\n",
      "Warning: No parameter version in the parfile.\n",
      "Warning: No ephemris version in the parfile.\n"
     ]
    },
    {
     "data": {
      "application/javascript": [
       "\n",
       "            setTimeout(function() {\n",
       "                var nbb_cell_id = 14;\n",
       "                var nbb_unformatted_code = \"psr_name = \\\"J0621+1002\\\"\\npsr = pr.psr(psr_name)\\npsr_par = sp.getoutput(\\\"psrcat -e \\\" + psr_name).split(\\\"\\\\n\\\")\\nif len(psr_par) < 3:\\n    print(\\\"A valid pulsar name is required.\\\")\\nfor i in range(len(psr_par)):\\n    psr_par[i] = psr_par[i] + \\\"\\\\n\\\"\";\n",
       "                var nbb_formatted_code = \"psr_name = \\\"J0621+1002\\\"\\npsr = pr.psr(psr_name)\\npsr_par = sp.getoutput(\\\"psrcat -e \\\" + psr_name).split(\\\"\\\\n\\\")\\nif len(psr_par) < 3:\\n    print(\\\"A valid pulsar name is required.\\\")\\nfor i in range(len(psr_par)):\\n    psr_par[i] = psr_par[i] + \\\"\\\\n\\\"\";\n",
       "                var nbb_cells = Jupyter.notebook.get_cells();\n",
       "                for (var i = 0; i < nbb_cells.length; ++i) {\n",
       "                    if (nbb_cells[i].input_prompt_number == nbb_cell_id) {\n",
       "                        if (nbb_cells[i].get_text() == nbb_unformatted_code) {\n",
       "                             nbb_cells[i].set_text(nbb_formatted_code);\n",
       "                        }\n",
       "                        break;\n",
       "                    }\n",
       "                }\n",
       "            }, 500);\n",
       "            "
      ],
      "text/plain": [
       "<IPython.core.display.Javascript object>"
      ]
     },
     "metadata": {},
     "output_type": "display_data"
    }
   ],
   "source": [
    "psr_name = \"J0621+1002\"\n",
    "psr = pr.psr(psr_name)\n",
    "psr_par = sp.getoutput(\"psrcat -e \" + psr_name).split(\"\\n\")\n",
    "if len(psr_par) < 3:\n",
    "    print(\"A valid pulsar name is required.\")\n",
    "for i in range(len(psr_par)):\n",
    "    psr_par[i] = psr_par[i] + \"\\n\""
   ]
  },
  {
   "cell_type": "code",
   "execution_count": 15,
   "metadata": {},
   "outputs": [
    {
     "data": {
      "application/javascript": [
       "\n",
       "            setTimeout(function() {\n",
       "                var nbb_cell_id = 15;\n",
       "                var nbb_unformatted_code = \"info[\\\"psr_par\\\"] = psr_par\\npepoch = False\\nfor line in psr_par:\\n    elements = line.split()\\n    if elements[0] == \\\"PSRJ\\\":\\n        psr_name = elements[1].strip(\\\"\\\\n\\\")\\n        info[\\\"psr_name\\\"] = psr_name\\n    elif elements[0] == \\\"F0\\\":\\n        period = 1.0 / np.float64(elements[1])\\n    elif elements[0] == \\\"DM\\\":\\n        dm = np.float64(elements[1])\\n    elif elements[0] == \\\"PEPOCH\\\":\\n        pepoch = True\";\n",
       "                var nbb_formatted_code = \"info[\\\"psr_par\\\"] = psr_par\\npepoch = False\\nfor line in psr_par:\\n    elements = line.split()\\n    if elements[0] == \\\"PSRJ\\\":\\n        psr_name = elements[1].strip(\\\"\\\\n\\\")\\n        info[\\\"psr_name\\\"] = psr_name\\n    elif elements[0] == \\\"F0\\\":\\n        period = 1.0 / np.float64(elements[1])\\n    elif elements[0] == \\\"DM\\\":\\n        dm = np.float64(elements[1])\\n    elif elements[0] == \\\"PEPOCH\\\":\\n        pepoch = True\";\n",
       "                var nbb_cells = Jupyter.notebook.get_cells();\n",
       "                for (var i = 0; i < nbb_cells.length; ++i) {\n",
       "                    if (nbb_cells[i].input_prompt_number == nbb_cell_id) {\n",
       "                        if (nbb_cells[i].get_text() == nbb_unformatted_code) {\n",
       "                             nbb_cells[i].set_text(nbb_formatted_code);\n",
       "                        }\n",
       "                        break;\n",
       "                    }\n",
       "                }\n",
       "            }, 500);\n",
       "            "
      ],
      "text/plain": [
       "<IPython.core.display.Javascript object>"
      ]
     },
     "metadata": {},
     "output_type": "display_data"
    }
   ],
   "source": [
    "info[\"psr_par\"] = psr_par\n",
    "pepoch = False\n",
    "for line in psr_par:\n",
    "    elements = line.split()\n",
    "    if elements[0] == \"PSRJ\":\n",
    "        psr_name = elements[1].strip(\"\\n\")\n",
    "        info[\"psr_name\"] = psr_name\n",
    "    elif elements[0] == \"F0\":\n",
    "        period = 1.0 / np.float64(elements[1])\n",
    "    elif elements[0] == \"DM\":\n",
    "        dm = np.float64(elements[1])\n",
    "    elif elements[0] == \"PEPOCH\":\n",
    "        pepoch = True"
   ]
  },
  {
   "cell_type": "markdown",
   "metadata": {},
   "source": [
    "# sunint"
   ]
  },
  {
   "cell_type": "code",
   "execution_count": 16,
   "metadata": {},
   "outputs": [
    {
     "data": {
      "application/javascript": [
       "\n",
       "            setTimeout(function() {\n",
       "                var nbb_cell_id = 16;\n",
       "                var nbb_unformatted_code = \"info[\\\"mode\\\"] = \\\"single\\\"\";\n",
       "                var nbb_formatted_code = \"info[\\\"mode\\\"] = \\\"single\\\"\";\n",
       "                var nbb_cells = Jupyter.notebook.get_cells();\n",
       "                for (var i = 0; i < nbb_cells.length; ++i) {\n",
       "                    if (nbb_cells[i].input_prompt_number == nbb_cell_id) {\n",
       "                        if (nbb_cells[i].get_text() == nbb_unformatted_code) {\n",
       "                             nbb_cells[i].set_text(nbb_formatted_code);\n",
       "                        }\n",
       "                        break;\n",
       "                    }\n",
       "                }\n",
       "            }, 500);\n",
       "            "
      ],
      "text/plain": [
       "<IPython.core.display.Javascript object>"
      ]
     },
     "metadata": {},
     "output_type": "display_data"
    }
   ],
   "source": [
    "info[\"mode\"] = \"single\""
   ]
  },
  {
   "cell_type": "code",
   "execution_count": 17,
   "metadata": {},
   "outputs": [
    {
     "data": {
      "application/javascript": [
       "\n",
       "            setTimeout(function() {\n",
       "                var nbb_cell_id = 17;\n",
       "                var nbb_unformatted_code = \"info[\\\"dm\\\"] = dm\";\n",
       "                var nbb_formatted_code = \"info[\\\"dm\\\"] = dm\";\n",
       "                var nbb_cells = Jupyter.notebook.get_cells();\n",
       "                for (var i = 0; i < nbb_cells.length; ++i) {\n",
       "                    if (nbb_cells[i].input_prompt_number == nbb_cell_id) {\n",
       "                        if (nbb_cells[i].get_text() == nbb_unformatted_code) {\n",
       "                             nbb_cells[i].set_text(nbb_formatted_code);\n",
       "                        }\n",
       "                        break;\n",
       "                    }\n",
       "                }\n",
       "            }, 500);\n",
       "            "
      ],
      "text/plain": [
       "<IPython.core.display.Javascript object>"
      ]
     },
     "metadata": {},
     "output_type": "display_data"
    }
   ],
   "source": [
    "info[\"dm\"] = dm"
   ]
  },
  {
   "cell_type": "code",
   "execution_count": 18,
   "metadata": {},
   "outputs": [
    {
     "data": {
      "text/plain": [
       "36.47"
      ]
     },
     "execution_count": 18,
     "metadata": {},
     "output_type": "execute_result"
    },
    {
     "data": {
      "application/javascript": [
       "\n",
       "            setTimeout(function() {\n",
       "                var nbb_cell_id = 18;\n",
       "                var nbb_unformatted_code = \"dm\";\n",
       "                var nbb_formatted_code = \"dm\";\n",
       "                var nbb_cells = Jupyter.notebook.get_cells();\n",
       "                for (var i = 0; i < nbb_cells.length; ++i) {\n",
       "                    if (nbb_cells[i].input_prompt_number == nbb_cell_id) {\n",
       "                        if (nbb_cells[i].get_text() == nbb_unformatted_code) {\n",
       "                             nbb_cells[i].set_text(nbb_formatted_code);\n",
       "                        }\n",
       "                        break;\n",
       "                    }\n",
       "                }\n",
       "            }, 500);\n",
       "            "
      ],
      "text/plain": [
       "<IPython.core.display.Javascript object>"
      ]
     },
     "metadata": {},
     "output_type": "display_data"
    }
   ],
   "source": [
    "dm"
   ]
  },
  {
   "cell_type": "markdown",
   "metadata": {},
   "source": [
    "# zap"
   ]
  },
  {
   "cell_type": "code",
   "execution_count": 19,
   "metadata": {},
   "outputs": [
    {
     "data": {
      "application/javascript": [
       "\n",
       "            setTimeout(function() {\n",
       "                var nbb_cell_id = 19;\n",
       "                var nbb_unformatted_code = \"zchan = []\";\n",
       "                var nbb_formatted_code = \"zchan = []\";\n",
       "                var nbb_cells = Jupyter.notebook.get_cells();\n",
       "                for (var i = 0; i < nbb_cells.length; ++i) {\n",
       "                    if (nbb_cells[i].input_prompt_number == nbb_cell_id) {\n",
       "                        if (nbb_cells[i].get_text() == nbb_unformatted_code) {\n",
       "                             nbb_cells[i].set_text(nbb_formatted_code);\n",
       "                        }\n",
       "                        break;\n",
       "                    }\n",
       "                }\n",
       "            }, 500);\n",
       "            "
      ],
      "text/plain": [
       "<IPython.core.display.Javascript object>"
      ]
     },
     "metadata": {},
     "output_type": "display_data"
    }
   ],
   "source": [
    "zchan = []"
   ]
  },
  {
   "cell_type": "markdown",
   "metadata": {},
   "source": [
    "# output"
   ]
  },
  {
   "cell_type": "code",
   "execution_count": 20,
   "metadata": {},
   "outputs": [
    {
     "data": {
      "application/javascript": [
       "\n",
       "            setTimeout(function() {\n",
       "                var nbb_cell_id = 20;\n",
       "                var nbb_unformatted_code = \"name = \\\"tracking_0001_0003\\\"\\nif len(name) > 3:\\n    if name[-3:] == \\\".ld\\\":\\n        name = name[:-3]\";\n",
       "                var nbb_formatted_code = \"name = \\\"tracking_0001_0003\\\"\\nif len(name) > 3:\\n    if name[-3:] == \\\".ld\\\":\\n        name = name[:-3]\";\n",
       "                var nbb_cells = Jupyter.notebook.get_cells();\n",
       "                for (var i = 0; i < nbb_cells.length; ++i) {\n",
       "                    if (nbb_cells[i].input_prompt_number == nbb_cell_id) {\n",
       "                        if (nbb_cells[i].get_text() == nbb_unformatted_code) {\n",
       "                             nbb_cells[i].set_text(nbb_formatted_code);\n",
       "                        }\n",
       "                        break;\n",
       "                    }\n",
       "                }\n",
       "            }, 500);\n",
       "            "
      ],
      "text/plain": [
       "<IPython.core.display.Javascript object>"
      ]
     },
     "metadata": {},
     "output_type": "display_data"
    }
   ],
   "source": [
    "name = \"tracking_0001_0003\"\n",
    "if len(name) > 3:\n",
    "    if name[-3:] == \".ld\":\n",
    "        name = name[:-3]"
   ]
  },
  {
   "cell_type": "code",
   "execution_count": 21,
   "metadata": {},
   "outputs": [
    {
     "data": {
      "application/javascript": [
       "\n",
       "            setTimeout(function() {\n",
       "                var nbb_cell_id = 21;\n",
       "                var nbb_unformatted_code = \"noise_a12, noise_a22, noise_cos, noise_sin = noise.read_period(0)[\\n    chanstart:chanend, 0\\n].T\";\n",
       "                var nbb_formatted_code = \"noise_a12, noise_a22, noise_cos, noise_sin = noise.read_period(0)[\\n    chanstart:chanend, 0\\n].T\";\n",
       "                var nbb_cells = Jupyter.notebook.get_cells();\n",
       "                for (var i = 0; i < nbb_cells.length; ++i) {\n",
       "                    if (nbb_cells[i].input_prompt_number == nbb_cell_id) {\n",
       "                        if (nbb_cells[i].get_text() == nbb_unformatted_code) {\n",
       "                             nbb_cells[i].set_text(nbb_formatted_code);\n",
       "                        }\n",
       "                        break;\n",
       "                    }\n",
       "                }\n",
       "            }, 500);\n",
       "            "
      ],
      "text/plain": [
       "<IPython.core.display.Javascript object>"
      ]
     },
     "metadata": {},
     "output_type": "display_data"
    }
   ],
   "source": [
    "noise_a12, noise_a22, noise_cos, noise_sin = noise.read_period(0)[\n",
    "    chanstart:chanend, 0\n",
    "].T"
   ]
  },
  {
   "cell_type": "markdown",
   "metadata": {},
   "source": [
    "# cal"
   ]
  },
  {
   "cell_type": "code",
   "execution_count": 22,
   "metadata": {},
   "outputs": [
    {
     "data": {
      "application/javascript": [
       "\n",
       "            setTimeout(function() {\n",
       "                var nbb_cell_id = 22;\n",
       "                var nbb_unformatted_code = \"info[\\\"cal\\\"] = list(\\n    map(str, np.array([noise_a12, noise_a22, noise_cos, noise_sin]).T.reshape(-1))\\n)\\nnoise_a12 = np.where(noise_a12 > 0, 1.0 / noise_a12, 0)\\nnoise_a22 = np.where(noise_a22 > 0, 1.0 / noise_a22, 0)\\nnoise_a1a2 = noise_a12 * noise_a22\\nnoise_a1a2 = np.sqrt(noise_a1a2)\\nnoise_cos = noise_cos * noise_a1a2\\nnoise_sin = noise_sin * noise_a1a2\\nnoise_a1p2 = (noise_a12 + noise_a22) / 2.0\\nnoise_a1m2 = (noise_a12 - noise_a22) / 2.0\";\n",
       "                var nbb_formatted_code = \"info[\\\"cal\\\"] = list(\\n    map(str, np.array([noise_a12, noise_a22, noise_cos, noise_sin]).T.reshape(-1))\\n)\\nnoise_a12 = np.where(noise_a12 > 0, 1.0 / noise_a12, 0)\\nnoise_a22 = np.where(noise_a22 > 0, 1.0 / noise_a22, 0)\\nnoise_a1a2 = noise_a12 * noise_a22\\nnoise_a1a2 = np.sqrt(noise_a1a2)\\nnoise_cos = noise_cos * noise_a1a2\\nnoise_sin = noise_sin * noise_a1a2\\nnoise_a1p2 = (noise_a12 + noise_a22) / 2.0\\nnoise_a1m2 = (noise_a12 - noise_a22) / 2.0\";\n",
       "                var nbb_cells = Jupyter.notebook.get_cells();\n",
       "                for (var i = 0; i < nbb_cells.length; ++i) {\n",
       "                    if (nbb_cells[i].input_prompt_number == nbb_cell_id) {\n",
       "                        if (nbb_cells[i].get_text() == nbb_unformatted_code) {\n",
       "                             nbb_cells[i].set_text(nbb_formatted_code);\n",
       "                        }\n",
       "                        break;\n",
       "                    }\n",
       "                }\n",
       "            }, 500);\n",
       "            "
      ],
      "text/plain": [
       "<IPython.core.display.Javascript object>"
      ]
     },
     "metadata": {},
     "output_type": "display_data"
    }
   ],
   "source": [
    "info[\"cal\"] = list(\n",
    "    map(str, np.array([noise_a12, noise_a22, noise_cos, noise_sin]).T.reshape(-1))\n",
    ")\n",
    "noise_a12 = np.where(noise_a12 > 0, 1.0 / noise_a12, 0)\n",
    "noise_a22 = np.where(noise_a22 > 0, 1.0 / noise_a22, 0)\n",
    "noise_a1a2 = noise_a12 * noise_a22\n",
    "noise_a1a2 = np.sqrt(noise_a1a2)\n",
    "noise_cos = noise_cos * noise_a1a2\n",
    "noise_sin = noise_sin * noise_a1a2\n",
    "noise_a1p2 = (noise_a12 + noise_a22) / 2.0\n",
    "noise_a1m2 = (noise_a12 - noise_a22) / 2.0"
   ]
  },
  {
   "cell_type": "code",
   "execution_count": 23,
   "metadata": {},
   "outputs": [
    {
     "data": {
      "application/javascript": [
       "\n",
       "            setTimeout(function() {\n",
       "                var nbb_cell_id = 23;\n",
       "                var nbb_unformatted_code = \"nbin_old = nbin\\nfreq0 = freq_start\\nfreq1 = freq_end\\nnbin0 = nbin\\n#\\nroach_delay = 8.192e-6 * 3\\ngps_delay = 1e-5\\ntransline_delay = 2e-5\\nlight_delay = (300.0 + 141.96) / 3.0e8\\ndelay = transline_delay + light_delay - gps_delay - roach_delay\\n#\\nstt_time = info[\\\"stt_time\\\"]\\nend_time = stt_time + tsamp * nbin0 / 86400.0 + 60.0 / 86400\\nstt_time -= 60.0 / 86400\\nstt_time = str(int(stt_time)) + str(stt_time % 1)[1:]\\nend_time = str(int(end_time)) + str(end_time % 1)[1:]\\ntime0 = file_time[0]\";\n",
       "                var nbb_formatted_code = \"nbin_old = nbin\\nfreq0 = freq_start\\nfreq1 = freq_end\\nnbin0 = nbin\\n#\\nroach_delay = 8.192e-6 * 3\\ngps_delay = 1e-5\\ntransline_delay = 2e-5\\nlight_delay = (300.0 + 141.96) / 3.0e8\\ndelay = transline_delay + light_delay - gps_delay - roach_delay\\n#\\nstt_time = info[\\\"stt_time\\\"]\\nend_time = stt_time + tsamp * nbin0 / 86400.0 + 60.0 / 86400\\nstt_time -= 60.0 / 86400\\nstt_time = str(int(stt_time)) + str(stt_time % 1)[1:]\\nend_time = str(int(end_time)) + str(end_time % 1)[1:]\\ntime0 = file_time[0]\";\n",
       "                var nbb_cells = Jupyter.notebook.get_cells();\n",
       "                for (var i = 0; i < nbb_cells.length; ++i) {\n",
       "                    if (nbb_cells[i].input_prompt_number == nbb_cell_id) {\n",
       "                        if (nbb_cells[i].get_text() == nbb_unformatted_code) {\n",
       "                             nbb_cells[i].set_text(nbb_formatted_code);\n",
       "                        }\n",
       "                        break;\n",
       "                    }\n",
       "                }\n",
       "            }, 500);\n",
       "            "
      ],
      "text/plain": [
       "<IPython.core.display.Javascript object>"
      ]
     },
     "metadata": {},
     "output_type": "display_data"
    }
   ],
   "source": [
    "nbin_old = nbin\n",
    "freq0 = freq_start\n",
    "freq1 = freq_end\n",
    "nbin0 = nbin\n",
    "#\n",
    "roach_delay = 8.192e-6 * 3\n",
    "gps_delay = 1e-5\n",
    "transline_delay = 2e-5\n",
    "light_delay = (300.0 + 141.96) / 3.0e8\n",
    "delay = transline_delay + light_delay - gps_delay - roach_delay\n",
    "#\n",
    "stt_time = info[\"stt_time\"]\n",
    "end_time = stt_time + tsamp * nbin0 / 86400.0 + 60.0 / 86400\n",
    "stt_time -= 60.0 / 86400\n",
    "stt_time = str(int(stt_time)) + str(stt_time % 1)[1:]\n",
    "end_time = str(int(end_time)) + str(end_time % 1)[1:]\n",
    "time0 = file_time[0]"
   ]
  },
  {
   "cell_type": "markdown",
   "metadata": {},
   "source": [
    "# period"
   ]
  },
  {
   "cell_type": "code",
   "execution_count": 24,
   "metadata": {},
   "outputs": [
    {
     "data": {
      "application/javascript": [
       "\n",
       "            setTimeout(function() {\n",
       "                var nbb_cell_id = 24;\n",
       "                var nbb_unformatted_code = \"ncoeff = 12\\nchebx_test = nc.chebpts1(ncoeff)\\nsecond_test = (chebx_test + 1) / 2 * nbin0 * tsamp + file_time[0][:-1].sum() - delay\\ntime_test = te.time(file_time[0][-1] * np.ones(ncoeff), second_test, scale=\\\"local\\\")\\ntimes_test = te.times(time_test)\\ntiming_test_end = pm.psr_timing(psr, times_test, freq_end)\\ntiming_test_start = pm.psr_timing(psr, times_test, freq_start)\\nphase_start = timing_test_end.phase.date[0] + 1\\nphase_end = timing_test_start.phase.date[-1]\\nphase = timing_test_end.phase.date - phase_start + timing_test_end.phase.second\\nnperiod = phase_end - phase_start\\nperiod = (\\n    (time_test.date[-1] - time_test.date[0]) * time_test.unit\\n    + time_test.second[-1]\\n    - time_test.second[0]\\n) / (\\n    timing_test_end.phase.date[-1]\\n    - timing_test_end.phase.date[0]\\n    + timing_test_end.phase.second[-1]\\n    - timing_test_end.phase.second[0]\\n)\\ncheb_end = nc.chebfit(chebx_test, timing_test_end.phase.date - phase_start, ncoeff - 1)\\nroots = nc.chebroots(cheb_end)\\nroots = np.real(roots[np.isreal(roots)])\\nroot = roots[np.argmin(np.abs(roots + 1))]\\nstt_time_test = te.time(\\n    file_time[0][-1],\\n    (root + 1) / 2 * nbin0 * tsamp + file_time[0][:-1].sum() - delay,\\n    scale=\\\"local\\\",\\n)\\nstt_sec = stt_time_test.second\\nstt_date = stt_time_test.date\\ninfo[\\\"phase0\\\"] = phase_start\\nncoeff_freq = 10\\nphase_tmp = np.zeros([ncoeff_freq, ncoeff])\\ndisp_tmp = np.zeros(ncoeff_freq)\\ncheby = nc.chebpts1(ncoeff_freq)\\nfreqy = (cheby + 1) / 2 * bandwidth + freq_start\\nfor i in np.arange(ncoeff_freq):\\n    timing_test = pm.psr_timing(psr, times_test, freqy[i])\\n    disp_tmp[i] = (\\n        (timing_test.tdis1 + timing_test.tdis2) / timing_test.period_now\\n    ).mean()\\n    phase_tmp[i] = (\\n        timing_test.phase.date - phase_start + timing_test.phase.second + disp_tmp[i]\\n    )\\ncoeff_freq = np.polyfit(1 / freqy, disp_tmp, 4)\\ncoeff = nc.chebfit(chebx_test, nc.chebfit(cheby, phase_tmp, 1).T, ncoeff - 1)\\ninfo[\\\"predictor\\\"] = list(map(list, coeff))\\ninfo[\\\"predictor_freq\\\"] = list(coeff_freq)\";\n",
       "                var nbb_formatted_code = \"ncoeff = 12\\nchebx_test = nc.chebpts1(ncoeff)\\nsecond_test = (chebx_test + 1) / 2 * nbin0 * tsamp + file_time[0][:-1].sum() - delay\\ntime_test = te.time(file_time[0][-1] * np.ones(ncoeff), second_test, scale=\\\"local\\\")\\ntimes_test = te.times(time_test)\\ntiming_test_end = pm.psr_timing(psr, times_test, freq_end)\\ntiming_test_start = pm.psr_timing(psr, times_test, freq_start)\\nphase_start = timing_test_end.phase.date[0] + 1\\nphase_end = timing_test_start.phase.date[-1]\\nphase = timing_test_end.phase.date - phase_start + timing_test_end.phase.second\\nnperiod = phase_end - phase_start\\nperiod = (\\n    (time_test.date[-1] - time_test.date[0]) * time_test.unit\\n    + time_test.second[-1]\\n    - time_test.second[0]\\n) / (\\n    timing_test_end.phase.date[-1]\\n    - timing_test_end.phase.date[0]\\n    + timing_test_end.phase.second[-1]\\n    - timing_test_end.phase.second[0]\\n)\\ncheb_end = nc.chebfit(chebx_test, timing_test_end.phase.date - phase_start, ncoeff - 1)\\nroots = nc.chebroots(cheb_end)\\nroots = np.real(roots[np.isreal(roots)])\\nroot = roots[np.argmin(np.abs(roots + 1))]\\nstt_time_test = te.time(\\n    file_time[0][-1],\\n    (root + 1) / 2 * nbin0 * tsamp + file_time[0][:-1].sum() - delay,\\n    scale=\\\"local\\\",\\n)\\nstt_sec = stt_time_test.second\\nstt_date = stt_time_test.date\\ninfo[\\\"phase0\\\"] = phase_start\\nncoeff_freq = 10\\nphase_tmp = np.zeros([ncoeff_freq, ncoeff])\\ndisp_tmp = np.zeros(ncoeff_freq)\\ncheby = nc.chebpts1(ncoeff_freq)\\nfreqy = (cheby + 1) / 2 * bandwidth + freq_start\\nfor i in np.arange(ncoeff_freq):\\n    timing_test = pm.psr_timing(psr, times_test, freqy[i])\\n    disp_tmp[i] = (\\n        (timing_test.tdis1 + timing_test.tdis2) / timing_test.period_now\\n    ).mean()\\n    phase_tmp[i] = (\\n        timing_test.phase.date - phase_start + timing_test.phase.second + disp_tmp[i]\\n    )\\ncoeff_freq = np.polyfit(1 / freqy, disp_tmp, 4)\\ncoeff = nc.chebfit(chebx_test, nc.chebfit(cheby, phase_tmp, 1).T, ncoeff - 1)\\ninfo[\\\"predictor\\\"] = list(map(list, coeff))\\ninfo[\\\"predictor_freq\\\"] = list(coeff_freq)\";\n",
       "                var nbb_cells = Jupyter.notebook.get_cells();\n",
       "                for (var i = 0; i < nbb_cells.length; ++i) {\n",
       "                    if (nbb_cells[i].input_prompt_number == nbb_cell_id) {\n",
       "                        if (nbb_cells[i].get_text() == nbb_unformatted_code) {\n",
       "                             nbb_cells[i].set_text(nbb_formatted_code);\n",
       "                        }\n",
       "                        break;\n",
       "                    }\n",
       "                }\n",
       "            }, 500);\n",
       "            "
      ],
      "text/plain": [
       "<IPython.core.display.Javascript object>"
      ]
     },
     "metadata": {},
     "output_type": "display_data"
    }
   ],
   "source": [
    "ncoeff = 12\n",
    "chebx_test = nc.chebpts1(ncoeff)\n",
    "second_test = (chebx_test + 1) / 2 * nbin0 * tsamp + file_time[0][:-1].sum() - delay\n",
    "time_test = te.time(file_time[0][-1] * np.ones(ncoeff), second_test, scale=\"local\")\n",
    "times_test = te.times(time_test)\n",
    "timing_test_end = pm.psr_timing(psr, times_test, freq_end)\n",
    "timing_test_start = pm.psr_timing(psr, times_test, freq_start)\n",
    "phase_start = timing_test_end.phase.date[0] + 1\n",
    "phase_end = timing_test_start.phase.date[-1]\n",
    "phase = timing_test_end.phase.date - phase_start + timing_test_end.phase.second\n",
    "nperiod = phase_end - phase_start\n",
    "period = (\n",
    "    (time_test.date[-1] - time_test.date[0]) * time_test.unit\n",
    "    + time_test.second[-1]\n",
    "    - time_test.second[0]\n",
    ") / (\n",
    "    timing_test_end.phase.date[-1]\n",
    "    - timing_test_end.phase.date[0]\n",
    "    + timing_test_end.phase.second[-1]\n",
    "    - timing_test_end.phase.second[0]\n",
    ")\n",
    "cheb_end = nc.chebfit(chebx_test, timing_test_end.phase.date - phase_start, ncoeff - 1)\n",
    "roots = nc.chebroots(cheb_end)\n",
    "roots = np.real(roots[np.isreal(roots)])\n",
    "root = roots[np.argmin(np.abs(roots + 1))]\n",
    "stt_time_test = te.time(\n",
    "    file_time[0][-1],\n",
    "    (root + 1) / 2 * nbin0 * tsamp + file_time[0][:-1].sum() - delay,\n",
    "    scale=\"local\",\n",
    ")\n",
    "stt_sec = stt_time_test.second\n",
    "stt_date = stt_time_test.date\n",
    "info[\"phase0\"] = phase_start\n",
    "ncoeff_freq = 10\n",
    "phase_tmp = np.zeros([ncoeff_freq, ncoeff])\n",
    "disp_tmp = np.zeros(ncoeff_freq)\n",
    "cheby = nc.chebpts1(ncoeff_freq)\n",
    "freqy = (cheby + 1) / 2 * bandwidth + freq_start\n",
    "for i in np.arange(ncoeff_freq):\n",
    "    timing_test = pm.psr_timing(psr, times_test, freqy[i])\n",
    "    disp_tmp[i] = (\n",
    "        (timing_test.tdis1 + timing_test.tdis2) / timing_test.period_now\n",
    "    ).mean()\n",
    "    phase_tmp[i] = (\n",
    "        timing_test.phase.date - phase_start + timing_test.phase.second + disp_tmp[i]\n",
    "    )\n",
    "coeff_freq = np.polyfit(1 / freqy, disp_tmp, 4)\n",
    "coeff = nc.chebfit(chebx_test, nc.chebfit(cheby, phase_tmp, 1).T, ncoeff - 1)\n",
    "info[\"predictor\"] = list(map(list, coeff))\n",
    "info[\"predictor_freq\"] = list(coeff_freq)"
   ]
  },
  {
   "cell_type": "code",
   "execution_count": 25,
   "metadata": {},
   "outputs": [
    {
     "data": {
      "text/plain": [
       "660"
      ]
     },
     "execution_count": 25,
     "metadata": {},
     "output_type": "execute_result"
    },
    {
     "data": {
      "application/javascript": [
       "\n",
       "            setTimeout(function() {\n",
       "                var nbb_cell_id = 25;\n",
       "                var nbb_unformatted_code = \"nperiod\";\n",
       "                var nbb_formatted_code = \"nperiod\";\n",
       "                var nbb_cells = Jupyter.notebook.get_cells();\n",
       "                for (var i = 0; i < nbb_cells.length; ++i) {\n",
       "                    if (nbb_cells[i].input_prompt_number == nbb_cell_id) {\n",
       "                        if (nbb_cells[i].get_text() == nbb_unformatted_code) {\n",
       "                             nbb_cells[i].set_text(nbb_formatted_code);\n",
       "                        }\n",
       "                        break;\n",
       "                    }\n",
       "                }\n",
       "            }, 500);\n",
       "            "
      ],
      "text/plain": [
       "<IPython.core.display.Javascript object>"
      ]
     },
     "metadata": {},
     "output_type": "display_data"
    }
   ],
   "source": [
    "nperiod"
   ]
  },
  {
   "cell_type": "code",
   "execution_count": 26,
   "metadata": {},
   "outputs": [
    {
     "data": {
      "text/plain": [
       "10977904487"
      ]
     },
     "execution_count": 26,
     "metadata": {},
     "output_type": "execute_result"
    },
    {
     "data": {
      "application/javascript": [
       "\n",
       "            setTimeout(function() {\n",
       "                var nbb_cell_id = 26;\n",
       "                var nbb_unformatted_code = \"phase_start + nperiod\";\n",
       "                var nbb_formatted_code = \"phase_start + nperiod\";\n",
       "                var nbb_cells = Jupyter.notebook.get_cells();\n",
       "                for (var i = 0; i < nbb_cells.length; ++i) {\n",
       "                    if (nbb_cells[i].input_prompt_number == nbb_cell_id) {\n",
       "                        if (nbb_cells[i].get_text() == nbb_unformatted_code) {\n",
       "                             nbb_cells[i].set_text(nbb_formatted_code);\n",
       "                        }\n",
       "                        break;\n",
       "                    }\n",
       "                }\n",
       "            }, 500);\n",
       "            "
      ],
      "text/plain": [
       "<IPython.core.display.Javascript object>"
      ]
     },
     "metadata": {},
     "output_type": "display_data"
    }
   ],
   "source": [
    "phase_start + nperiod"
   ]
  },
  {
   "cell_type": "code",
   "execution_count": 27,
   "metadata": {},
   "outputs": [
    {
     "data": {
      "text/plain": [
       "10977904487"
      ]
     },
     "execution_count": 27,
     "metadata": {},
     "output_type": "execute_result"
    },
    {
     "data": {
      "application/javascript": [
       "\n",
       "            setTimeout(function() {\n",
       "                var nbb_cell_id = 27;\n",
       "                var nbb_unformatted_code = \"phase_end\";\n",
       "                var nbb_formatted_code = \"phase_end\";\n",
       "                var nbb_cells = Jupyter.notebook.get_cells();\n",
       "                for (var i = 0; i < nbb_cells.length; ++i) {\n",
       "                    if (nbb_cells[i].input_prompt_number == nbb_cell_id) {\n",
       "                        if (nbb_cells[i].get_text() == nbb_unformatted_code) {\n",
       "                             nbb_cells[i].set_text(nbb_formatted_code);\n",
       "                        }\n",
       "                        break;\n",
       "                    }\n",
       "                }\n",
       "            }, 500);\n",
       "            "
      ],
      "text/plain": [
       "<IPython.core.display.Javascript object>"
      ]
     },
     "metadata": {},
     "output_type": "display_data"
    }
   ],
   "source": [
    "phase_end"
   ]
  },
  {
   "cell_type": "code",
   "execution_count": 28,
   "metadata": {},
   "outputs": [
    {
     "data": {
      "application/javascript": [
       "\n",
       "            setTimeout(function() {\n",
       "                var nbb_cell_id = 28;\n",
       "                var nbb_unformatted_code = \"info[\\\"stt_sec\\\"] = stt_sec[0]\\ninfo[\\\"stt_date\\\"] = stt_date[0]\\ninfo[\\\"stt_time\\\"] = stt_date[0] + stt_sec[0] / 86400.0\\n#\\ninfo[\\\"nperiod\\\"] = nperiod\\ninfo[\\\"period\\\"] = period\\n#\\nnbin_max = (nbin0 - 1) / (np.max(phase) - np.min(phase))\";\n",
       "                var nbb_formatted_code = \"info[\\\"stt_sec\\\"] = stt_sec[0]\\ninfo[\\\"stt_date\\\"] = stt_date[0]\\ninfo[\\\"stt_time\\\"] = stt_date[0] + stt_sec[0] / 86400.0\\n#\\ninfo[\\\"nperiod\\\"] = nperiod\\ninfo[\\\"period\\\"] = period\\n#\\nnbin_max = (nbin0 - 1) / (np.max(phase) - np.min(phase))\";\n",
       "                var nbb_cells = Jupyter.notebook.get_cells();\n",
       "                for (var i = 0; i < nbb_cells.length; ++i) {\n",
       "                    if (nbb_cells[i].input_prompt_number == nbb_cell_id) {\n",
       "                        if (nbb_cells[i].get_text() == nbb_unformatted_code) {\n",
       "                             nbb_cells[i].set_text(nbb_formatted_code);\n",
       "                        }\n",
       "                        break;\n",
       "                    }\n",
       "                }\n",
       "            }, 500);\n",
       "            "
      ],
      "text/plain": [
       "<IPython.core.display.Javascript object>"
      ]
     },
     "metadata": {},
     "output_type": "display_data"
    }
   ],
   "source": [
    "info[\"stt_sec\"] = stt_sec[0]\n",
    "info[\"stt_date\"] = stt_date[0]\n",
    "info[\"stt_time\"] = stt_date[0] + stt_sec[0] / 86400.0\n",
    "#\n",
    "info[\"nperiod\"] = nperiod\n",
    "info[\"period\"] = period\n",
    "#\n",
    "nbin_max = (nbin0 - 1) / (np.max(phase) - np.min(phase))"
   ]
  },
  {
   "cell_type": "markdown",
   "metadata": {},
   "source": [
    "# nbins"
   ]
  },
  {
   "cell_type": "code",
   "execution_count": 29,
   "metadata": {},
   "outputs": [
    {
     "data": {
      "application/javascript": [
       "\n",
       "            setTimeout(function() {\n",
       "                var nbb_cell_id = 29;\n",
       "                var nbb_unformatted_code = \"nbin = 2 ** np.int16(np.log2(nbin_max))\\ntemp_multi = 1\";\n",
       "                var nbb_formatted_code = \"nbin = 2 ** np.int16(np.log2(nbin_max))\\ntemp_multi = 1\";\n",
       "                var nbb_cells = Jupyter.notebook.get_cells();\n",
       "                for (var i = 0; i < nbb_cells.length; ++i) {\n",
       "                    if (nbb_cells[i].input_prompt_number == nbb_cell_id) {\n",
       "                        if (nbb_cells[i].get_text() == nbb_unformatted_code) {\n",
       "                             nbb_cells[i].set_text(nbb_formatted_code);\n",
       "                        }\n",
       "                        break;\n",
       "                    }\n",
       "                }\n",
       "            }, 500);\n",
       "            "
      ],
      "text/plain": [
       "<IPython.core.display.Javascript object>"
      ]
     },
     "metadata": {},
     "output_type": "display_data"
    }
   ],
   "source": [
    "nbin = 2 ** np.int16(np.log2(nbin_max))\n",
    "temp_multi = 1"
   ]
  },
  {
   "cell_type": "code",
   "execution_count": 30,
   "metadata": {},
   "outputs": [
    {
     "data": {
      "application/javascript": [
       "\n",
       "            setTimeout(function() {\n",
       "                var nbb_cell_id = 30;\n",
       "                var nbb_unformatted_code = \"info[\\\"nbin\\\"] = nbin\\ninfo[\\\"length\\\"] = period * nperiod\\n#\\ntotalbin = nperiod * nbin * temp_multi\\ndphasebin = 1.0 / (nbin * temp_multi)\\ndf = freq_start + np.arange(nchan_new) * channel_width\\ndf0 = (df - freq_start) / (freq_end - freq_start) * 2 - 1\";\n",
       "                var nbb_formatted_code = \"info[\\\"nbin\\\"] = nbin\\ninfo[\\\"length\\\"] = period * nperiod\\n#\\ntotalbin = nperiod * nbin * temp_multi\\ndphasebin = 1.0 / (nbin * temp_multi)\\ndf = freq_start + np.arange(nchan_new) * channel_width\\ndf0 = (df - freq_start) / (freq_end - freq_start) * 2 - 1\";\n",
       "                var nbb_cells = Jupyter.notebook.get_cells();\n",
       "                for (var i = 0; i < nbb_cells.length; ++i) {\n",
       "                    if (nbb_cells[i].input_prompt_number == nbb_cell_id) {\n",
       "                        if (nbb_cells[i].get_text() == nbb_unformatted_code) {\n",
       "                             nbb_cells[i].set_text(nbb_formatted_code);\n",
       "                        }\n",
       "                        break;\n",
       "                    }\n",
       "                }\n",
       "            }, 500);\n",
       "            "
      ],
      "text/plain": [
       "<IPython.core.display.Javascript object>"
      ]
     },
     "metadata": {},
     "output_type": "display_data"
    }
   ],
   "source": [
    "info[\"nbin\"] = nbin\n",
    "info[\"length\"] = period * nperiod\n",
    "#\n",
    "totalbin = nperiod * nbin * temp_multi\n",
    "dphasebin = 1.0 / (nbin * temp_multi)\n",
    "df = freq_start + np.arange(nchan_new) * channel_width\n",
    "df0 = (df - freq_start) / (freq_end - freq_start) * 2 - 1"
   ]
  },
  {
   "cell_type": "code",
   "execution_count": 31,
   "metadata": {},
   "outputs": [
    {
     "data": {
      "text/plain": [
       "512"
      ]
     },
     "execution_count": 31,
     "metadata": {},
     "output_type": "execute_result"
    },
    {
     "data": {
      "application/javascript": [
       "\n",
       "            setTimeout(function() {\n",
       "                var nbb_cell_id = 31;\n",
       "                var nbb_unformatted_code = \"info[\\\"nbin\\\"]\";\n",
       "                var nbb_formatted_code = \"info[\\\"nbin\\\"]\";\n",
       "                var nbb_cells = Jupyter.notebook.get_cells();\n",
       "                for (var i = 0; i < nbb_cells.length; ++i) {\n",
       "                    if (nbb_cells[i].input_prompt_number == nbb_cell_id) {\n",
       "                        if (nbb_cells[i].get_text() == nbb_unformatted_code) {\n",
       "                             nbb_cells[i].set_text(nbb_formatted_code);\n",
       "                        }\n",
       "                        break;\n",
       "                    }\n",
       "                }\n",
       "            }, 500);\n",
       "            "
      ],
      "text/plain": [
       "<IPython.core.display.Javascript object>"
      ]
     },
     "metadata": {},
     "output_type": "display_data"
    }
   ],
   "source": [
    "info[\"nbin\"]"
   ]
  },
  {
   "cell_type": "markdown",
   "metadata": {},
   "source": [
    "# ld file"
   ]
  },
  {
   "cell_type": "code",
   "execution_count": 32,
   "metadata": {},
   "outputs": [
    {
     "data": {
      "application/javascript": [
       "\n",
       "            setTimeout(function() {\n",
       "                var nbb_cell_id = 32;\n",
       "                var nbb_unformatted_code = \"d = ld.ld(name + \\\".ld\\\")\";\n",
       "                var nbb_formatted_code = \"d = ld.ld(name + \\\".ld\\\")\";\n",
       "                var nbb_cells = Jupyter.notebook.get_cells();\n",
       "                for (var i = 0; i < nbb_cells.length; ++i) {\n",
       "                    if (nbb_cells[i].input_prompt_number == nbb_cell_id) {\n",
       "                        if (nbb_cells[i].get_text() == nbb_unformatted_code) {\n",
       "                             nbb_cells[i].set_text(nbb_formatted_code);\n",
       "                        }\n",
       "                        break;\n",
       "                    }\n",
       "                }\n",
       "            }, 500);\n",
       "            "
      ],
      "text/plain": [
       "<IPython.core.display.Javascript object>"
      ]
     },
     "metadata": {},
     "output_type": "display_data"
    }
   ],
   "source": [
    "d = ld.ld(name + \".ld\")"
   ]
  },
  {
   "cell_type": "code",
   "execution_count": 33,
   "metadata": {},
   "outputs": [
    {
     "data": {
      "application/javascript": [
       "\n",
       "            setTimeout(function() {\n",
       "                var nbb_cell_id = 33;\n",
       "                var nbb_unformatted_code = \"info[\\\"nsub\\\"] = nperiod\\ninfo[\\\"file_time\\\"] = time.strftime(\\\"%Y-%m-%dT%H:%M:%S\\\", time.gmtime())\\nd.write_shape([nchan_new, info[\\\"nsub\\\"], nbin, npol])\";\n",
       "                var nbb_formatted_code = \"info[\\\"nsub\\\"] = nperiod\\ninfo[\\\"file_time\\\"] = time.strftime(\\\"%Y-%m-%dT%H:%M:%S\\\", time.gmtime())\\nd.write_shape([nchan_new, info[\\\"nsub\\\"], nbin, npol])\";\n",
       "                var nbb_cells = Jupyter.notebook.get_cells();\n",
       "                for (var i = 0; i < nbb_cells.length; ++i) {\n",
       "                    if (nbb_cells[i].input_prompt_number == nbb_cell_id) {\n",
       "                        if (nbb_cells[i].get_text() == nbb_unformatted_code) {\n",
       "                             nbb_cells[i].set_text(nbb_formatted_code);\n",
       "                        }\n",
       "                        break;\n",
       "                    }\n",
       "                }\n",
       "            }, 500);\n",
       "            "
      ],
      "text/plain": [
       "<IPython.core.display.Javascript object>"
      ]
     },
     "metadata": {},
     "output_type": "display_data"
    }
   ],
   "source": [
    "info[\"nsub\"] = nperiod\n",
    "info[\"file_time\"] = time.strftime(\"%Y-%m-%dT%H:%M:%S\", time.gmtime())\n",
    "d.write_shape([nchan_new, info[\"nsub\"], nbin, npol])"
   ]
  },
  {
   "cell_type": "code",
   "execution_count": 37,
   "metadata": {},
   "outputs": [
    {
     "data": {
      "application/javascript": [
       "\n",
       "            setTimeout(function() {\n",
       "                var nbb_cell_id = 37;\n",
       "                var nbb_unformatted_code = \"d.write_info(info)\";\n",
       "                var nbb_formatted_code = \"d.write_info(info)\";\n",
       "                var nbb_cells = Jupyter.notebook.get_cells();\n",
       "                for (var i = 0; i < nbb_cells.length; ++i) {\n",
       "                    if (nbb_cells[i].input_prompt_number == nbb_cell_id) {\n",
       "                        if (nbb_cells[i].get_text() == nbb_unformatted_code) {\n",
       "                             nbb_cells[i].set_text(nbb_formatted_code);\n",
       "                        }\n",
       "                        break;\n",
       "                    }\n",
       "                }\n",
       "            }, 500);\n",
       "            "
      ],
      "text/plain": [
       "<IPython.core.display.Javascript object>"
      ]
     },
     "metadata": {},
     "output_type": "display_data"
    }
   ],
   "source": [
    "d.write_info(info)"
   ]
  },
  {
   "cell_type": "code",
   "execution_count": 38,
   "metadata": {},
   "outputs": [
    {
     "name": "stdout",
     "output_type": "stream",
     "text": [
      "328K\ttracking_0001_0003.ld\r\n"
     ]
    },
    {
     "data": {
      "application/javascript": [
       "\n",
       "            setTimeout(function() {\n",
       "                var nbb_cell_id = 38;\n",
       "                var nbb_unformatted_code = \"! du -h tracking_0001_0003.ld\";\n",
       "                var nbb_formatted_code = \"! du -h tracking_0001_0003.ld\";\n",
       "                var nbb_cells = Jupyter.notebook.get_cells();\n",
       "                for (var i = 0; i < nbb_cells.length; ++i) {\n",
       "                    if (nbb_cells[i].input_prompt_number == nbb_cell_id) {\n",
       "                        if (nbb_cells[i].get_text() == nbb_unformatted_code) {\n",
       "                             nbb_cells[i].set_text(nbb_formatted_code);\n",
       "                        }\n",
       "                        break;\n",
       "                    }\n",
       "                }\n",
       "            }, 500);\n",
       "            "
      ],
      "text/plain": [
       "<IPython.core.display.Javascript object>"
      ]
     },
     "metadata": {},
     "output_type": "display_data"
    }
   ],
   "source": [
    "! du -h tracking_0001_0003.ld"
   ]
  },
  {
   "cell_type": "code",
   "execution_count": 73,
   "metadata": {},
   "outputs": [
    {
     "data": {
      "application/javascript": [
       "\n",
       "            setTimeout(function() {\n",
       "                var nbb_cell_id = 73;\n",
       "                var nbb_unformatted_code = \"def write_data(ldfile, data, startbin, channum, lock=0):\\n    a1p2, a1m2, ncos, nsin = (\\n        noise_a1p2[channum],\\n        noise_a1m2[channum],\\n        noise_cos[channum],\\n        noise_sin[channum],\\n    )\\n    i, q, u, v = data\\n    i, q, u, v = (\\n        a1p2 * i - a1m2 * q,\\n        a1p2 * q - a1m2 * i,\\n        ncos * u + nsin * v,\\n        -nsin * u + ncos * v,\\n    )\\n    data = np.array([i, q, u, v])\\n    d.__write_chanbins_add__(data.T, startbin, channum)\";\n",
       "                var nbb_formatted_code = \"def write_data(ldfile, data, startbin, channum, lock=0):\\n    a1p2, a1m2, ncos, nsin = (\\n        noise_a1p2[channum],\\n        noise_a1m2[channum],\\n        noise_cos[channum],\\n        noise_sin[channum],\\n    )\\n    i, q, u, v = data\\n    i, q, u, v = (\\n        a1p2 * i - a1m2 * q,\\n        a1p2 * q - a1m2 * i,\\n        ncos * u + nsin * v,\\n        -nsin * u + ncos * v,\\n    )\\n    data = np.array([i, q, u, v])\\n    d.__write_chanbins_add__(data.T, startbin, channum)\";\n",
       "                var nbb_cells = Jupyter.notebook.get_cells();\n",
       "                for (var i = 0; i < nbb_cells.length; ++i) {\n",
       "                    if (nbb_cells[i].input_prompt_number == nbb_cell_id) {\n",
       "                        if (nbb_cells[i].get_text() == nbb_unformatted_code) {\n",
       "                             nbb_cells[i].set_text(nbb_formatted_code);\n",
       "                        }\n",
       "                        break;\n",
       "                    }\n",
       "                }\n",
       "            }, 500);\n",
       "            "
      ],
      "text/plain": [
       "<IPython.core.display.Javascript object>"
      ]
     },
     "metadata": {},
     "output_type": "display_data"
    }
   ],
   "source": [
    "def write_data(ldfile, data, startbin, channum, lock=0):\n",
    "    a1p2, a1m2, ncos, nsin = (\n",
    "        noise_a1p2[channum],\n",
    "        noise_a1m2[channum],\n",
    "        noise_cos[channum],\n",
    "        noise_sin[channum],\n",
    "    )\n",
    "    i, q, u, v = data\n",
    "    i, q, u, v = (\n",
    "        a1p2 * i - a1m2 * q,\n",
    "        a1p2 * q - a1m2 * i,\n",
    "        ncos * u + nsin * v,\n",
    "        -nsin * u + ncos * v,\n",
    "    )\n",
    "    data = np.array([i, q, u, v])\n",
    "    d.__write_chanbins_add__(data.T, startbin, channum)"
   ]
  },
  {
   "cell_type": "code",
   "execution_count": 74,
   "metadata": {},
   "outputs": [
    {
     "data": {
      "application/javascript": [
       "\n",
       "            setTimeout(function() {\n",
       "                var nbb_cell_id = 74;\n",
       "                var nbb_unformatted_code = \"def gendata(cums, nsub, data, d, tpsub=0, tpsubn=0, last=False, first=True, lock=0):\\n    data = np.concatenate(\\n        (np.zeros([2, npol, nchan]), data, np.zeros([2, npol, nchan])), axis=0\\n    ).transpose(2, 1, 0)\\n    data = data[chanstart:chanend]\\n    dt = np.arange(nsblk * cums - 2, nsblk * cums + nsub + 2) / nbin0 * 2 - 1\\n    for f in np.arange(nchan_new):\\n        if f + chanstart in zchan:\\n            continue\\n        phase = nc.chebval2d(\\n            dt, df0[f] * np.ones_like(dt, dtype=np.float64), coeff\\n        ) - np.polyval(coeff_freq, 1 / df[f])\\n        newphase = np.arange(\\n            phase[0] // dphasebin + 1, phase[-1] // dphasebin + 1, dtype=np.int64\\n        )\\n        if newphase[-1] < 0 or newphase[0] >= totalbin:\\n            continue\\n        newphase = newphase[(newphase >= 0) & (newphase < totalbin)]\\n        tpdata = np.zeros([npol, len(newphase)])\\n        for p in np.arange(npol):\\n            tpdata[p] = np.interp(newphase, phase / dphasebin, data[f, p, :])\\n        if temp_multi > 1:\\n            startphase, phaseres0 = divmod(newphase[0], temp_multi)\\n            phaseres0 = np.int64(phaseres0)\\n            nphase = np.int64(\\n                np.ceil((newphase[-1] + 1 - newphase[0] + phaseres0) * 1.0 / temp_multi)\\n            )\\n            tpdata = (\\n                np.concatenate(\\n                    (\\n                        np.zeros([npol, phaseres0]),\\n                        tpdata,\\n                        np.zeros(\\n                            [\\n                                npol,\\n                                nphase * temp_multi\\n                                - newphase[-1]\\n                                - 1\\n                                + newphase[0]\\n                                - phaseres0,\\n                            ]\\n                        ),\\n                    ),\\n                    axis=1,\\n                )\\n                .reshape(npol, nphase, temp_multi)\\n                .sum(2)\\n            )\\n        else:\\n            startphase = newphase[0]\\n            nphase = newphase.size\\n        if info[\\\"mode\\\"] == \\\"single\\\":\\n            write_data(d, tpdata, startphase, f, lock=lock)\\n        else:\\n            startperiod, phaseres1 = divmod(startphase, nbin)\\n            phaseres1 = np.int64(phaseres1)\\n            file_nperiod = np.int64(np.ceil((nphase + phaseres1) * 1.0 / nbin))\\n            startsub, periodres = divmod(startperiod, sub_nperiod)\\n            periodres = np.int64(periodres)\\n            file_nsub = np.int64(\\n                np.ceil((file_nperiod + periodres) * 1.0 / sub_nperiod)\\n            )\\n            if file_nsub > 1 or newphase[-1] == totalbin - 1:\\n                file_sub_data = np.zeros([npol, file_nsub, nbin])\\n                if newphase[-1] == totalbin - 1:\\n                    if newphase[0] == 0:\\n                        tpdata = tpdata.reshape(npol, -1, nbin)\\n                        file_sub_data[:, :-1] = (\\n                            tpdata[:, :(-sub_nperiod_last)]\\n                            .reshape(npol, file_nsub - 1, sub_nperiod, nbin)\\n                            .sum(2)\\n                        )\\n                        file_sub_data[:, -1] = tpdata[:, (-sub_nperiod_last):].sum(1)\\n                    elif file_nsub > 1:\\n                        tpsub[f, :, phaseres1:] += tpdata[:, : (nbin - phaseres1)]\\n                        tpdata = tpdata[:, (nbin - phaseres1) :].reshape(npol, -1, nbin)\\n                        file_sub_data[:, 1:-1] = (\\n                            tpdata[\\n                                :, (sub_nperiod - periodres - 1) : (-sub_nperiod_last)\\n                            ]\\n                            .reshape(npol, file_nsub - 2, sub_nperiod_last, nbin)\\n                            .sum(2)\\n                        )\\n                        file_sub_data[:, 0] = tpsub[f] + tpdata[\\n                            :, : (sub_nperiod - periodres - 1)\\n                        ].sum(1)\\n                        file_sub_data[:, -1] = tpdata[:, (-sub_nperiod_last):].sum(1)\\n                    else:\\n                        tpsub[f, :, phaseres1:] += tpdata[:, : (nbin - phaseres1)]\\n                        tpdata = tpdata[:, (nbin - phaseres1) :].reshape(npol, -1, nbin)\\n                        file_sub_data[:, 0] = tpsub[f] + tpdata.sum(1)\\n                    write_data(\\n                        d,\\n                        file_sub_data.reshape(npol, -1),\\n                        startsub * nbin,\\n                        f,\\n                        lock=lock,\\n                    )\\n                else:\\n                    periodres_left = sub_nperiod - periodres\\n                    periodres_right = (file_nsub - 1) * sub_nperiod - periodres\\n                    phaseres_left = periodres_left * nbin - phaseres1\\n                    phaseres_right = periodres_right * nbin - phaseres1\\n                    phaseres_left1 = nbin - phaseres1\\n                    phaseres_right1 = (file_nperiod - 1) * nbin - phaseres1\\n                    file_sub_data[:, 1:-1] = (\\n                        tpdata[:, phaseres_left:phaseres_right]\\n                        .reshape(npol, file_nsub - 2, sub_nperiod, nbin)\\n                        .sum(2)\\n                    )\\n                    file_sub_data[:, 0] = (\\n                        tpdata[:, phaseres_left1:phaseres_left]\\n                        .reshape(npol, sub_nperiod - periodres - 1, nbin)\\n                        .sum(1)\\n                    )\\n                    file_sub_data[:, 0, phaseres1:] += tpdata[:, :phaseres_left1]\\n                    file_sub_data[:, -1] = (\\n                        tpdata[:, phaseres_right:phaseres_right1]\\n                        .reshape(npol, file_nperiod - 1 - periodres_right, nbin)\\n                        .sum(1)\\n                    )\\n                    file_sub_data[:, -1, : (nphase - phaseres_right1)] += tpdata[\\n                        :, phaseres_right1:\\n                    ]\\n                    if tpsubn[f] <= startsub:\\n                        file_sub_data[:, 0] += tpsub[f]\\n                    else:\\n                        file_sub_data[:, 1] += tpsub[f]\\n                    write_data(\\n                        d,\\n                        file_sub_data[:, :-1].reshape(npol, -1),\\n                        startsub * nbin,\\n                        f,\\n                        lock=lock,\\n                    )\\n                    tpsub[f] = file_sub_data[:, -1]\\n                    tpsubn[f] = startsub + file_nsub - 1\\n                    if args.multi and last:\\n                        write_data(d, tpsub[f], tpsubn[f] * nbin, f, lock=lock)\\n            else:\\n                if file_nperiod > 1:\\n                    phaseres_left = nbin - phaseres1\\n                    phaseres_right = (file_nperiod - 1) * nbin - phaseres1\\n                    tpsub[f, :, phaseres1:] += tpdata[:, :phaseres_left]\\n                    tpsub[f, :, : (nphase - phaseres_right)] += tpdata[\\n                        :, phaseres_right:\\n                    ]\\n                    if file_nperiod > 2:\\n                        tpsub[f] += (\\n                            tpdata[:, phaseres_left:phaseres_right]\\n                            .reshape(npol, file_nperiod - 2, nbin)\\n                            .sum(1)\\n                        )\\n                else:\\n                    tpsub[f, :, phaseres1 : (phaseres1 + tpdata.shape[1])] += tpdata\\n    return tpsub, tpsubn\";\n",
       "                var nbb_formatted_code = \"def gendata(cums, nsub, data, d, tpsub=0, tpsubn=0, last=False, first=True, lock=0):\\n    data = np.concatenate(\\n        (np.zeros([2, npol, nchan]), data, np.zeros([2, npol, nchan])), axis=0\\n    ).transpose(2, 1, 0)\\n    data = data[chanstart:chanend]\\n    dt = np.arange(nsblk * cums - 2, nsblk * cums + nsub + 2) / nbin0 * 2 - 1\\n    for f in np.arange(nchan_new):\\n        if f + chanstart in zchan:\\n            continue\\n        phase = nc.chebval2d(\\n            dt, df0[f] * np.ones_like(dt, dtype=np.float64), coeff\\n        ) - np.polyval(coeff_freq, 1 / df[f])\\n        newphase = np.arange(\\n            phase[0] // dphasebin + 1, phase[-1] // dphasebin + 1, dtype=np.int64\\n        )\\n        if newphase[-1] < 0 or newphase[0] >= totalbin:\\n            continue\\n        newphase = newphase[(newphase >= 0) & (newphase < totalbin)]\\n        tpdata = np.zeros([npol, len(newphase)])\\n        for p in np.arange(npol):\\n            tpdata[p] = np.interp(newphase, phase / dphasebin, data[f, p, :])\\n        if temp_multi > 1:\\n            startphase, phaseres0 = divmod(newphase[0], temp_multi)\\n            phaseres0 = np.int64(phaseres0)\\n            nphase = np.int64(\\n                np.ceil((newphase[-1] + 1 - newphase[0] + phaseres0) * 1.0 / temp_multi)\\n            )\\n            tpdata = (\\n                np.concatenate(\\n                    (\\n                        np.zeros([npol, phaseres0]),\\n                        tpdata,\\n                        np.zeros(\\n                            [\\n                                npol,\\n                                nphase * temp_multi\\n                                - newphase[-1]\\n                                - 1\\n                                + newphase[0]\\n                                - phaseres0,\\n                            ]\\n                        ),\\n                    ),\\n                    axis=1,\\n                )\\n                .reshape(npol, nphase, temp_multi)\\n                .sum(2)\\n            )\\n        else:\\n            startphase = newphase[0]\\n            nphase = newphase.size\\n        if info[\\\"mode\\\"] == \\\"single\\\":\\n            write_data(d, tpdata, startphase, f, lock=lock)\\n        else:\\n            startperiod, phaseres1 = divmod(startphase, nbin)\\n            phaseres1 = np.int64(phaseres1)\\n            file_nperiod = np.int64(np.ceil((nphase + phaseres1) * 1.0 / nbin))\\n            startsub, periodres = divmod(startperiod, sub_nperiod)\\n            periodres = np.int64(periodres)\\n            file_nsub = np.int64(\\n                np.ceil((file_nperiod + periodres) * 1.0 / sub_nperiod)\\n            )\\n            if file_nsub > 1 or newphase[-1] == totalbin - 1:\\n                file_sub_data = np.zeros([npol, file_nsub, nbin])\\n                if newphase[-1] == totalbin - 1:\\n                    if newphase[0] == 0:\\n                        tpdata = tpdata.reshape(npol, -1, nbin)\\n                        file_sub_data[:, :-1] = (\\n                            tpdata[:, :(-sub_nperiod_last)]\\n                            .reshape(npol, file_nsub - 1, sub_nperiod, nbin)\\n                            .sum(2)\\n                        )\\n                        file_sub_data[:, -1] = tpdata[:, (-sub_nperiod_last):].sum(1)\\n                    elif file_nsub > 1:\\n                        tpsub[f, :, phaseres1:] += tpdata[:, : (nbin - phaseres1)]\\n                        tpdata = tpdata[:, (nbin - phaseres1) :].reshape(npol, -1, nbin)\\n                        file_sub_data[:, 1:-1] = (\\n                            tpdata[\\n                                :, (sub_nperiod - periodres - 1) : (-sub_nperiod_last)\\n                            ]\\n                            .reshape(npol, file_nsub - 2, sub_nperiod_last, nbin)\\n                            .sum(2)\\n                        )\\n                        file_sub_data[:, 0] = tpsub[f] + tpdata[\\n                            :, : (sub_nperiod - periodres - 1)\\n                        ].sum(1)\\n                        file_sub_data[:, -1] = tpdata[:, (-sub_nperiod_last):].sum(1)\\n                    else:\\n                        tpsub[f, :, phaseres1:] += tpdata[:, : (nbin - phaseres1)]\\n                        tpdata = tpdata[:, (nbin - phaseres1) :].reshape(npol, -1, nbin)\\n                        file_sub_data[:, 0] = tpsub[f] + tpdata.sum(1)\\n                    write_data(\\n                        d,\\n                        file_sub_data.reshape(npol, -1),\\n                        startsub * nbin,\\n                        f,\\n                        lock=lock,\\n                    )\\n                else:\\n                    periodres_left = sub_nperiod - periodres\\n                    periodres_right = (file_nsub - 1) * sub_nperiod - periodres\\n                    phaseres_left = periodres_left * nbin - phaseres1\\n                    phaseres_right = periodres_right * nbin - phaseres1\\n                    phaseres_left1 = nbin - phaseres1\\n                    phaseres_right1 = (file_nperiod - 1) * nbin - phaseres1\\n                    file_sub_data[:, 1:-1] = (\\n                        tpdata[:, phaseres_left:phaseres_right]\\n                        .reshape(npol, file_nsub - 2, sub_nperiod, nbin)\\n                        .sum(2)\\n                    )\\n                    file_sub_data[:, 0] = (\\n                        tpdata[:, phaseres_left1:phaseres_left]\\n                        .reshape(npol, sub_nperiod - periodres - 1, nbin)\\n                        .sum(1)\\n                    )\\n                    file_sub_data[:, 0, phaseres1:] += tpdata[:, :phaseres_left1]\\n                    file_sub_data[:, -1] = (\\n                        tpdata[:, phaseres_right:phaseres_right1]\\n                        .reshape(npol, file_nperiod - 1 - periodres_right, nbin)\\n                        .sum(1)\\n                    )\\n                    file_sub_data[:, -1, : (nphase - phaseres_right1)] += tpdata[\\n                        :, phaseres_right1:\\n                    ]\\n                    if tpsubn[f] <= startsub:\\n                        file_sub_data[:, 0] += tpsub[f]\\n                    else:\\n                        file_sub_data[:, 1] += tpsub[f]\\n                    write_data(\\n                        d,\\n                        file_sub_data[:, :-1].reshape(npol, -1),\\n                        startsub * nbin,\\n                        f,\\n                        lock=lock,\\n                    )\\n                    tpsub[f] = file_sub_data[:, -1]\\n                    tpsubn[f] = startsub + file_nsub - 1\\n                    if args.multi and last:\\n                        write_data(d, tpsub[f], tpsubn[f] * nbin, f, lock=lock)\\n            else:\\n                if file_nperiod > 1:\\n                    phaseres_left = nbin - phaseres1\\n                    phaseres_right = (file_nperiod - 1) * nbin - phaseres1\\n                    tpsub[f, :, phaseres1:] += tpdata[:, :phaseres_left]\\n                    tpsub[f, :, : (nphase - phaseres_right)] += tpdata[\\n                        :, phaseres_right:\\n                    ]\\n                    if file_nperiod > 2:\\n                        tpsub[f] += (\\n                            tpdata[:, phaseres_left:phaseres_right]\\n                            .reshape(npol, file_nperiod - 2, nbin)\\n                            .sum(1)\\n                        )\\n                else:\\n                    tpsub[f, :, phaseres1 : (phaseres1 + tpdata.shape[1])] += tpdata\\n    return tpsub, tpsubn\";\n",
       "                var nbb_cells = Jupyter.notebook.get_cells();\n",
       "                for (var i = 0; i < nbb_cells.length; ++i) {\n",
       "                    if (nbb_cells[i].input_prompt_number == nbb_cell_id) {\n",
       "                        if (nbb_cells[i].get_text() == nbb_unformatted_code) {\n",
       "                             nbb_cells[i].set_text(nbb_formatted_code);\n",
       "                        }\n",
       "                        break;\n",
       "                    }\n",
       "                }\n",
       "            }, 500);\n",
       "            "
      ],
      "text/plain": [
       "<IPython.core.display.Javascript object>"
      ]
     },
     "metadata": {},
     "output_type": "display_data"
    }
   ],
   "source": [
    "def gendata(cums, nsub, data, d, tpsub=0, tpsubn=0, last=False, first=True, lock=0):\n",
    "    data = np.concatenate(\n",
    "        (np.zeros([2, npol, nchan]), data, np.zeros([2, npol, nchan])), axis=0\n",
    "    ).transpose(2, 1, 0)\n",
    "    data = data[chanstart:chanend]\n",
    "    dt = np.arange(nsblk * cums - 2, nsblk * cums + nsub + 2) / nbin0 * 2 - 1\n",
    "    for f in np.arange(nchan_new):\n",
    "        if f + chanstart in zchan:\n",
    "            continue\n",
    "        phase = nc.chebval2d(\n",
    "            dt, df0[f] * np.ones_like(dt, dtype=np.float64), coeff\n",
    "        ) - np.polyval(coeff_freq, 1 / df[f])\n",
    "        newphase = np.arange(\n",
    "            phase[0] // dphasebin + 1, phase[-1] // dphasebin + 1, dtype=np.int64\n",
    "        )\n",
    "        if newphase[-1] < 0 or newphase[0] >= totalbin:\n",
    "            continue\n",
    "        newphase = newphase[(newphase >= 0) & (newphase < totalbin)]\n",
    "        tpdata = np.zeros([npol, len(newphase)])\n",
    "        for p in np.arange(npol):\n",
    "            tpdata[p] = np.interp(newphase, phase / dphasebin, data[f, p, :])\n",
    "        if temp_multi > 1:\n",
    "            startphase, phaseres0 = divmod(newphase[0], temp_multi)\n",
    "            phaseres0 = np.int64(phaseres0)\n",
    "            nphase = np.int64(\n",
    "                np.ceil((newphase[-1] + 1 - newphase[0] + phaseres0) * 1.0 / temp_multi)\n",
    "            )\n",
    "            tpdata = (\n",
    "                np.concatenate(\n",
    "                    (\n",
    "                        np.zeros([npol, phaseres0]),\n",
    "                        tpdata,\n",
    "                        np.zeros(\n",
    "                            [\n",
    "                                npol,\n",
    "                                nphase * temp_multi\n",
    "                                - newphase[-1]\n",
    "                                - 1\n",
    "                                + newphase[0]\n",
    "                                - phaseres0,\n",
    "                            ]\n",
    "                        ),\n",
    "                    ),\n",
    "                    axis=1,\n",
    "                )\n",
    "                .reshape(npol, nphase, temp_multi)\n",
    "                .sum(2)\n",
    "            )\n",
    "        else:\n",
    "            startphase = newphase[0]\n",
    "            nphase = newphase.size\n",
    "        if info[\"mode\"] == \"single\":\n",
    "            write_data(d, tpdata, startphase, f, lock=lock)\n",
    "        else:\n",
    "            startperiod, phaseres1 = divmod(startphase, nbin)\n",
    "            phaseres1 = np.int64(phaseres1)\n",
    "            file_nperiod = np.int64(np.ceil((nphase + phaseres1) * 1.0 / nbin))\n",
    "            startsub, periodres = divmod(startperiod, sub_nperiod)\n",
    "            periodres = np.int64(periodres)\n",
    "            file_nsub = np.int64(\n",
    "                np.ceil((file_nperiod + periodres) * 1.0 / sub_nperiod)\n",
    "            )\n",
    "            if file_nsub > 1 or newphase[-1] == totalbin - 1:\n",
    "                file_sub_data = np.zeros([npol, file_nsub, nbin])\n",
    "                if newphase[-1] == totalbin - 1:\n",
    "                    if newphase[0] == 0:\n",
    "                        tpdata = tpdata.reshape(npol, -1, nbin)\n",
    "                        file_sub_data[:, :-1] = (\n",
    "                            tpdata[:, :(-sub_nperiod_last)]\n",
    "                            .reshape(npol, file_nsub - 1, sub_nperiod, nbin)\n",
    "                            .sum(2)\n",
    "                        )\n",
    "                        file_sub_data[:, -1] = tpdata[:, (-sub_nperiod_last):].sum(1)\n",
    "                    elif file_nsub > 1:\n",
    "                        tpsub[f, :, phaseres1:] += tpdata[:, : (nbin - phaseres1)]\n",
    "                        tpdata = tpdata[:, (nbin - phaseres1) :].reshape(npol, -1, nbin)\n",
    "                        file_sub_data[:, 1:-1] = (\n",
    "                            tpdata[\n",
    "                                :, (sub_nperiod - periodres - 1) : (-sub_nperiod_last)\n",
    "                            ]\n",
    "                            .reshape(npol, file_nsub - 2, sub_nperiod_last, nbin)\n",
    "                            .sum(2)\n",
    "                        )\n",
    "                        file_sub_data[:, 0] = tpsub[f] + tpdata[\n",
    "                            :, : (sub_nperiod - periodres - 1)\n",
    "                        ].sum(1)\n",
    "                        file_sub_data[:, -1] = tpdata[:, (-sub_nperiod_last):].sum(1)\n",
    "                    else:\n",
    "                        tpsub[f, :, phaseres1:] += tpdata[:, : (nbin - phaseres1)]\n",
    "                        tpdata = tpdata[:, (nbin - phaseres1) :].reshape(npol, -1, nbin)\n",
    "                        file_sub_data[:, 0] = tpsub[f] + tpdata.sum(1)\n",
    "                    write_data(\n",
    "                        d,\n",
    "                        file_sub_data.reshape(npol, -1),\n",
    "                        startsub * nbin,\n",
    "                        f,\n",
    "                        lock=lock,\n",
    "                    )\n",
    "                else:\n",
    "                    periodres_left = sub_nperiod - periodres\n",
    "                    periodres_right = (file_nsub - 1) * sub_nperiod - periodres\n",
    "                    phaseres_left = periodres_left * nbin - phaseres1\n",
    "                    phaseres_right = periodres_right * nbin - phaseres1\n",
    "                    phaseres_left1 = nbin - phaseres1\n",
    "                    phaseres_right1 = (file_nperiod - 1) * nbin - phaseres1\n",
    "                    file_sub_data[:, 1:-1] = (\n",
    "                        tpdata[:, phaseres_left:phaseres_right]\n",
    "                        .reshape(npol, file_nsub - 2, sub_nperiod, nbin)\n",
    "                        .sum(2)\n",
    "                    )\n",
    "                    file_sub_data[:, 0] = (\n",
    "                        tpdata[:, phaseres_left1:phaseres_left]\n",
    "                        .reshape(npol, sub_nperiod - periodres - 1, nbin)\n",
    "                        .sum(1)\n",
    "                    )\n",
    "                    file_sub_data[:, 0, phaseres1:] += tpdata[:, :phaseres_left1]\n",
    "                    file_sub_data[:, -1] = (\n",
    "                        tpdata[:, phaseres_right:phaseres_right1]\n",
    "                        .reshape(npol, file_nperiod - 1 - periodres_right, nbin)\n",
    "                        .sum(1)\n",
    "                    )\n",
    "                    file_sub_data[:, -1, : (nphase - phaseres_right1)] += tpdata[\n",
    "                        :, phaseres_right1:\n",
    "                    ]\n",
    "                    if tpsubn[f] <= startsub:\n",
    "                        file_sub_data[:, 0] += tpsub[f]\n",
    "                    else:\n",
    "                        file_sub_data[:, 1] += tpsub[f]\n",
    "                    write_data(\n",
    "                        d,\n",
    "                        file_sub_data[:, :-1].reshape(npol, -1),\n",
    "                        startsub * nbin,\n",
    "                        f,\n",
    "                        lock=lock,\n",
    "                    )\n",
    "                    tpsub[f] = file_sub_data[:, -1]\n",
    "                    tpsubn[f] = startsub + file_nsub - 1\n",
    "                    if args.multi and last:\n",
    "                        write_data(d, tpsub[f], tpsubn[f] * nbin, f, lock=lock)\n",
    "            else:\n",
    "                if file_nperiod > 1:\n",
    "                    phaseres_left = nbin - phaseres1\n",
    "                    phaseres_right = (file_nperiod - 1) * nbin - phaseres1\n",
    "                    tpsub[f, :, phaseres1:] += tpdata[:, :phaseres_left]\n",
    "                    tpsub[f, :, : (nphase - phaseres_right)] += tpdata[\n",
    "                        :, phaseres_right:\n",
    "                    ]\n",
    "                    if file_nperiod > 2:\n",
    "                        tpsub[f] += (\n",
    "                            tpdata[:, phaseres_left:phaseres_right]\n",
    "                            .reshape(npol, file_nperiod - 2, nbin)\n",
    "                            .sum(1)\n",
    "                        )\n",
    "                else:\n",
    "                    tpsub[f, :, phaseres1 : (phaseres1 + tpdata.shape[1])] += tpdata\n",
    "    return tpsub, tpsubn"
   ]
  },
  {
   "cell_type": "code",
   "execution_count": 75,
   "metadata": {},
   "outputs": [
    {
     "data": {
      "application/javascript": [
       "\n",
       "            setTimeout(function() {\n",
       "                var nbb_cell_id = 75;\n",
       "                var nbb_unformatted_code = \"def dealdata(filelist, n, d, lock=0):\\n    tpsub = 0\\n    tpsubn = 0\\n    f = ps.open(filelist[n], mmap=True)\\n    fsub = f[\\\"SUBINT\\\"].header[\\\"naxis2\\\"]\\n    for i in np.arange(fsub):\\n        cumsub = np.int64(file_len[:n].sum() + i)\\n        dtmp = f[\\\"SUBINT\\\"].data[i]\\n        data = np.int16(\\n            dtmp[\\\"DATA\\\"].reshape(nsblk, npol, nchan)\\n            * dtmp[\\\"dat_scl\\\"].reshape(1, npol, nchan)\\n            + dtmp[\\\"dat_offs\\\"].reshape(1, npol, nchan)\\n        )\\n        del f[\\\"SUBINT\\\"].data\\n        tpsub, tpsubn = gendata(\\n            cumsub,\\n            nsblk,\\n            data,\\n            d,\\n            tpsub,\\n            tpsubn,\\n            last=(i == (fsub - 1)),\\n            first=i == 0,\\n            lock=lock,\\n        )\\n    f.close()\\n    gc.collect()\";\n",
       "                var nbb_formatted_code = \"def dealdata(filelist, n, d, lock=0):\\n    tpsub = 0\\n    tpsubn = 0\\n    f = ps.open(filelist[n], mmap=True)\\n    fsub = f[\\\"SUBINT\\\"].header[\\\"naxis2\\\"]\\n    for i in np.arange(fsub):\\n        cumsub = np.int64(file_len[:n].sum() + i)\\n        dtmp = f[\\\"SUBINT\\\"].data[i]\\n        data = np.int16(\\n            dtmp[\\\"DATA\\\"].reshape(nsblk, npol, nchan)\\n            * dtmp[\\\"dat_scl\\\"].reshape(1, npol, nchan)\\n            + dtmp[\\\"dat_offs\\\"].reshape(1, npol, nchan)\\n        )\\n        del f[\\\"SUBINT\\\"].data\\n        tpsub, tpsubn = gendata(\\n            cumsub,\\n            nsblk,\\n            data,\\n            d,\\n            tpsub,\\n            tpsubn,\\n            last=(i == (fsub - 1)),\\n            first=i == 0,\\n            lock=lock,\\n        )\\n    f.close()\\n    gc.collect()\";\n",
       "                var nbb_cells = Jupyter.notebook.get_cells();\n",
       "                for (var i = 0; i < nbb_cells.length; ++i) {\n",
       "                    if (nbb_cells[i].input_prompt_number == nbb_cell_id) {\n",
       "                        if (nbb_cells[i].get_text() == nbb_unformatted_code) {\n",
       "                             nbb_cells[i].set_text(nbb_formatted_code);\n",
       "                        }\n",
       "                        break;\n",
       "                    }\n",
       "                }\n",
       "            }, 500);\n",
       "            "
      ],
      "text/plain": [
       "<IPython.core.display.Javascript object>"
      ]
     },
     "metadata": {},
     "output_type": "display_data"
    }
   ],
   "source": [
    "def dealdata(filelist, n, d, lock=0):\n",
    "    tpsub = 0\n",
    "    tpsubn = 0\n",
    "    f = ps.open(filelist[n], mmap=True)\n",
    "    fsub = f[\"SUBINT\"].header[\"naxis2\"]\n",
    "    for i in np.arange(fsub):\n",
    "        cumsub = np.int64(file_len[:n].sum() + i)\n",
    "        dtmp = f[\"SUBINT\"].data[i]\n",
    "        data = np.int16(\n",
    "            dtmp[\"DATA\"].reshape(nsblk, npol, nchan)\n",
    "            * dtmp[\"dat_scl\"].reshape(1, npol, nchan)\n",
    "            + dtmp[\"dat_offs\"].reshape(1, npol, nchan)\n",
    "        )\n",
    "        del f[\"SUBINT\"].data\n",
    "        tpsub, tpsubn = gendata(\n",
    "            cumsub,\n",
    "            nsblk,\n",
    "            data,\n",
    "            d,\n",
    "            tpsub,\n",
    "            tpsubn,\n",
    "            last=(i == (fsub - 1)),\n",
    "            first=i == 0,\n",
    "            lock=lock,\n",
    "        )\n",
    "    f.close()\n",
    "    gc.collect()"
   ]
  },
  {
   "cell_type": "code",
   "execution_count": 76,
   "metadata": {},
   "outputs": [
    {
     "data": {
      "text/plain": [
       "dict_keys(['nbin_origin', 'telename', 'freq_start', 'freq_end', 'nchan', 'tsamp_origin', 'stt_time_origin', 'stt_time', 'npol', 'psr_par', 'psr_name', 'mode', 'dm', 'cal', 'phase0', 'predictor', 'predictor_freq', 'stt_sec', 'stt_date', 'nperiod', 'period', 'nbin', 'length', 'nsub', 'file_time'])"
      ]
     },
     "execution_count": 76,
     "metadata": {},
     "output_type": "execute_result"
    },
    {
     "data": {
      "application/javascript": [
       "\n",
       "            setTimeout(function() {\n",
       "                var nbb_cell_id = 76;\n",
       "                var nbb_unformatted_code = \"info.keys()\";\n",
       "                var nbb_formatted_code = \"info.keys()\";\n",
       "                var nbb_cells = Jupyter.notebook.get_cells();\n",
       "                for (var i = 0; i < nbb_cells.length; ++i) {\n",
       "                    if (nbb_cells[i].input_prompt_number == nbb_cell_id) {\n",
       "                        if (nbb_cells[i].get_text() == nbb_unformatted_code) {\n",
       "                             nbb_cells[i].set_text(nbb_formatted_code);\n",
       "                        }\n",
       "                        break;\n",
       "                    }\n",
       "                }\n",
       "            }, 500);\n",
       "            "
      ],
      "text/plain": [
       "<IPython.core.display.Javascript object>"
      ]
     },
     "metadata": {},
     "output_type": "display_data"
    }
   ],
   "source": [
    "info.keys()"
   ]
  },
  {
   "cell_type": "code",
   "execution_count": 77,
   "metadata": {},
   "outputs": [
    {
     "data": {
      "text/plain": [
       "660"
      ]
     },
     "execution_count": 77,
     "metadata": {},
     "output_type": "execute_result"
    },
    {
     "data": {
      "application/javascript": [
       "\n",
       "            setTimeout(function() {\n",
       "                var nbb_cell_id = 77;\n",
       "                var nbb_unformatted_code = \"info[\\\"nsub\\\"]\";\n",
       "                var nbb_formatted_code = \"info[\\\"nsub\\\"]\";\n",
       "                var nbb_cells = Jupyter.notebook.get_cells();\n",
       "                for (var i = 0; i < nbb_cells.length; ++i) {\n",
       "                    if (nbb_cells[i].input_prompt_number == nbb_cell_id) {\n",
       "                        if (nbb_cells[i].get_text() == nbb_unformatted_code) {\n",
       "                             nbb_cells[i].set_text(nbb_formatted_code);\n",
       "                        }\n",
       "                        break;\n",
       "                    }\n",
       "                }\n",
       "            }, 500);\n",
       "            "
      ],
      "text/plain": [
       "<IPython.core.display.Javascript object>"
      ]
     },
     "metadata": {},
     "output_type": "display_data"
    }
   ],
   "source": [
    "info[\"nsub\"]"
   ]
  },
  {
   "cell_type": "code",
   "execution_count": 78,
   "metadata": {},
   "outputs": [
    {
     "data": {
      "application/javascript": [
       "\n",
       "            setTimeout(function() {\n",
       "                var nbb_cell_id = 78;\n",
       "                var nbb_unformatted_code = \"for n in np.arange(filenum):\\n    if n % 2 == 0 and n > 0:\\n        d.write_info(info)\\n        d = ld.ld(name + \\\"_%s.ld\\\" % (n // 2))\\n        d.write_shape([nchan_new, info[\\\"nsub\\\"], nbin, npol])\\n    dealdata(filelist, n, d)\\n    if n == filenum - 1:\\n        d.write_info(info)\";\n",
       "                var nbb_formatted_code = \"for n in np.arange(filenum):\\n    if n % 2 == 0 and n > 0:\\n        d.write_info(info)\\n        d = ld.ld(name + \\\"_%s.ld\\\" % (n // 2))\\n        d.write_shape([nchan_new, info[\\\"nsub\\\"], nbin, npol])\\n    dealdata(filelist, n, d)\\n    if n == filenum - 1:\\n        d.write_info(info)\";\n",
       "                var nbb_cells = Jupyter.notebook.get_cells();\n",
       "                for (var i = 0; i < nbb_cells.length; ++i) {\n",
       "                    if (nbb_cells[i].input_prompt_number == nbb_cell_id) {\n",
       "                        if (nbb_cells[i].get_text() == nbb_unformatted_code) {\n",
       "                             nbb_cells[i].set_text(nbb_formatted_code);\n",
       "                        }\n",
       "                        break;\n",
       "                    }\n",
       "                }\n",
       "            }, 500);\n",
       "            "
      ],
      "text/plain": [
       "<IPython.core.display.Javascript object>"
      ]
     },
     "metadata": {},
     "output_type": "display_data"
    }
   ],
   "source": [
    "for n in np.arange(filenum):\n",
    "    if n % 10 == 0 and n > 0:\n",
    "        d.write_info(info)\n",
    "        d = ld.ld(name + \"_%s.ld\" % (n // 10))\n",
    "        d.write_shape([nchan_new, info[\"nsub\"], nbin, npol])\n",
    "    dealdata(filelist, n, d)\n",
    "    if n == filenum - 1:\n",
    "        d.write_info(info)"
   ]
  },
  {
   "cell_type": "markdown",
   "metadata": {},
   "source": [
    "# Read ld"
   ]
  },
  {
   "cell_type": "code",
   "execution_count": 43,
   "metadata": {},
   "outputs": [],
   "source": [
    "ld_file = ld.ld(\"/home/juianhsu/2019a-109-P/J0621+1002/20190702/tracking_0001.ld\")"
   ]
  },
  {
   "cell_type": "code",
   "execution_count": 51,
   "metadata": {},
   "outputs": [
    {
     "name": "stdout",
     "output_type": "stream",
     "text": [
      "['__class__', '__delattr__', '__dict__', '__dir__', '__doc__', '__eq__', '__format__', '__ge__', '__getattribute__', '__gt__', '__hash__', '__init__', '__init_subclass__', '__le__', '__lt__', '__module__', '__ne__', '__new__', '__read_bin_segment__', '__read_chan0__', '__read_size__', '__reduce__', '__reduce_ex__', '__refresh_size__', '__repr__', '__setattr__', '__size__', '__sizeof__', '__str__', '__subclasshook__', '__weakref__', '__write_bin_segment__', '__write_chanbins__', '__write_chanbins_add__', '__write_size__', 'chan_scrunch', 'file', 'name', 'period_scrunch', 'read_chan', 'read_data', 'read_info', 'read_para', 'read_period', 'read_shape', 'write_chan', 'write_info', 'write_para', 'write_period', 'write_shape']\n"
     ]
    }
   ],
   "source": [
    "print(dir(ld_file))"
   ]
  },
  {
   "cell_type": "code",
   "execution_count": 52,
   "metadata": {},
   "outputs": [
    {
     "data": {
      "text/plain": [
       "'/home/juianhsu/2019a-109-P/J0621+1002/20190702/tracking_0001.ld'"
      ]
     },
     "execution_count": 52,
     "metadata": {},
     "output_type": "execute_result"
    }
   ],
   "source": [
    "ld_file.name"
   ]
  },
  {
   "cell_type": "code",
   "execution_count": 53,
   "metadata": {},
   "outputs": [
    {
     "data": {
      "text/plain": [
       "array([24,  0,  0,  0,  0])"
      ]
     },
     "execution_count": 53,
     "metadata": {},
     "output_type": "execute_result"
    }
   ],
   "source": [
    "ld_file.__size__"
   ]
  },
  {
   "cell_type": "code",
   "execution_count": 54,
   "metadata": {},
   "outputs": [
    {
     "data": {
      "text/plain": [
       "0"
      ]
     },
     "execution_count": 54,
     "metadata": {},
     "output_type": "execute_result"
    }
   ],
   "source": [
    "open(ld_file.name,'rb+').seek(0)"
   ]
  },
  {
   "cell_type": "code",
   "execution_count": null,
   "metadata": {},
   "outputs": [],
   "source": []
  }
 ],
 "metadata": {
  "kernelspec": {
   "display_name": "Python 3",
   "language": "python",
   "name": "python3"
  },
  "language_info": {
   "codemirror_mode": {
    "name": "ipython",
    "version": 3
   },
   "file_extension": ".py",
   "mimetype": "text/x-python",
   "name": "python",
   "nbconvert_exporter": "python",
   "pygments_lexer": "ipython3",
   "version": "3.8.3"
  }
 },
 "nbformat": 4,
 "nbformat_minor": 4
}
